{
 "cells": [
  {
   "cell_type": "code",
   "execution_count": 35,
   "metadata": {},
   "outputs": [],
   "source": [
    "import argparse\n",
    "import json\n",
    "import numpy as np\n",
    "\n",
    "from compute_similarity_score import pearson_score\n",
    "from collaborative_filtering_score import *\n",
    "\n",
    "# Define a function to parse the input arguments. The only input argument would be the name of the user:\n",
    "def build_arg_parser():\n",
    "    parser = argparse.ArgumentParser(description = \"Find the movie recommendations for the given user\")\n",
    "    parser.add_argument('--user', dest = \"user\", required = True, help = \"Input user\")\n",
    "    return parser"
   ]
  },
  {
   "cell_type": "code",
   "execution_count": 31,
   "metadata": {},
   "outputs": [],
   "source": [
    "# Get movie recommendations for the input user\n",
    "def get_recommendations(dataset, input_user):\n",
    "    if input_user not in dataset:\n",
    "        raise TypeError('Cannot find ' + input_user + ' in the dataset')\n",
    "\n",
    "    overall_scores = {}\n",
    "    similarity_scores = {}\n",
    "\n",
    "    for user in [x for x in dataset if x != input_user]:\n",
    "        similarity_score = pearson_score(dataset, input_user, user)\n",
    "\n",
    "        if similarity_score <= 0:\n",
    "            continue\n",
    "        \n",
    "        filtered_list = [x for x in dataset[user] if x not in \\\n",
    "                dataset[input_user] or dataset[input_user][x] == 0]\n",
    "\n",
    "        for item in filtered_list: \n",
    "            overall_scores.update({item: dataset[user][item] * similarity_score})\n",
    "            similarity_scores.update({item: similarity_score})\n",
    "\n",
    "    if len(overall_scores) == 0:\n",
    "        return ['No recommendations possible']\n",
    "\n",
    "    # Generate movie ranks by normalization \n",
    "    movie_scores = np.array([[score/similarity_scores[item], item] \n",
    "            for item, score in overall_scores.items()])\n",
    "\n",
    "    # Sort in decreasing order \n",
    "    movie_scores = movie_scores[np.argsort(movie_scores[:, 0])[::-1]]\n",
    "\n",
    "    # Extract the movie recommendations\n",
    "    movie_recommendations = [movie for _, movie in movie_scores]\n",
    "\n",
    "    return movie_recommendations"
   ]
  },
  {
   "cell_type": "code",
   "execution_count": null,
   "metadata": {},
   "outputs": [],
   "source": [
    "if __name__ == '__main__':\n",
    "    args = build_arg_parser().parse_args()\n",
    "    user = args.user\n",
    "    \n",
    "    ratings_file = 'ratings.json'\n",
    "    \n",
    "    with open(ratings_file, 'r') as f:\n",
    "        data = json.loads(f.read())\n",
    "        \n",
    "    print(\"\\n Movie recommendations for \" + user + \":\")\n",
    "    movies = get_recommendations(data, user)\n",
    "    for i, movie in enumerate(movies):\n",
    "        print(str(i+1) + '. ' + movie)"
   ]
  },
  {
   "cell_type": "code",
   "execution_count": null,
   "metadata": {},
   "outputs": [],
   "source": []
  }
 ],
 "metadata": {
  "kernelspec": {
   "display_name": "Python 3",
   "language": "python",
   "name": "python3"
  },
  "language_info": {
   "codemirror_mode": {
    "name": "ipython",
    "version": 3
   },
   "file_extension": ".py",
   "mimetype": "text/x-python",
   "name": "python",
   "nbconvert_exporter": "python",
   "pygments_lexer": "ipython3",
   "version": "3.6.4"
  }
 },
 "nbformat": 4,
 "nbformat_minor": 2
}

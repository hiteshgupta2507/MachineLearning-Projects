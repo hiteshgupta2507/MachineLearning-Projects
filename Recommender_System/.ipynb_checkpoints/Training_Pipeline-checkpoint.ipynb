{
 "cells": [
  {
   "cell_type": "code",
   "execution_count": 6,
   "metadata": {},
   "outputs": [],
   "source": [
    "from sklearn.datasets import samples_generator\n",
    "from sklearn.feature_selection import SelectKBest, f_regression\n",
    "from sklearn.pipeline import Pipeline\n",
    "from sklearn.ensemble import ExtraTreesClassifier\n",
    "\n",
    "# Generate data\n",
    "X, y = samples_generator.make_classification(n_samples = 150, n_features = 25, n_classes = 3, n_informative = 6,\n",
    "                                            n_redundant = 0, random_state = 7) "
   ]
  },
  {
   "cell_type": "code",
   "execution_count": 14,
   "metadata": {},
   "outputs": [
    {
     "data": {
      "text/plain": [
       "Pipeline(memory=None,\n",
       "     steps=[('selector', SelectKBest(k=7, score_func=<function f_regression at 0x1a0ff21268>)), ('erf', ExtraTreesClassifier(bootstrap=False, class_weight=None, criterion='gini',\n",
       "           max_depth=4, max_features='auto', max_leaf_nodes=None,\n",
       "           min_impurity_decrease=0.0, min_impurity_split=None,\n",
       "           min_samples_leaf=1, min_samples_split=2,\n",
       "           min_weight_fraction_leaf=0.0, n_estimators=30, n_jobs=1,\n",
       "           oob_score=False, random_state=None, verbose=0, warm_start=False))])"
      ]
     },
     "execution_count": 14,
     "metadata": {},
     "output_type": "execute_result"
    }
   ],
   "source": [
    "# Selects top K features\n",
    "k_best_selector = SelectKBest(f_regression, k = 9)\n",
    "\n",
    "# Initialize Extremely Random Forests classifier\n",
    "classifier = ExtraTreesClassifier(n_estimators = 60, max_depth = 4)\n",
    "\n",
    "# Construct the pipeline\n",
    "processor_pipeline = Pipeline([('selector', k_best_selector), ('erf', classifier)])\n",
    "\n",
    "# Set the parameters\n",
    "processor_pipeline.set_params(selector__k = 7, erf__n_estimators = 30)\n",
    "\n",
    "# Training the pipeline\n",
    "processor_pipeline.fit(X, y)"
   ]
  },
  {
   "cell_type": "code",
   "execution_count": 15,
   "metadata": {},
   "outputs": [
    {
     "name": "stdout",
     "output_type": "stream",
     "text": [
      "\n",
      "Predicted output:\n",
      " [2 1 0 2 2 0 2 0 2 1 1 2 1 2 1 2 2 1 1 1 2 0 1 1 1 0 0 0 0 2 2 0 1 2 2 2 2\n",
      " 0 0 0 1 2 2 0 1 1 1 0 1 1 2 0 2 0 2 2 1 0 1 2 0 1 0 0 2 2 2 2 0 2 0 0 1 2\n",
      " 2 1 0 0 1 2 2 2 1 0 1 0 0 1 1 0 1 1 1 2 0 2 2 2 1 1 1 0 1 1 2 2 2 1 2 0 0\n",
      " 1 1 2 1 0 2 0 2 1 2 1 0 0 1 1 1 1 0 2 0 0 1 2 1 2 2 2 1 2 2 2 2 0 1 0 1 2\n",
      " 2 2]\n"
     ]
    }
   ],
   "source": [
    "# Predict outputs for the input data\n",
    "output = processor_pipeline.predict(X)\n",
    "print(\"\\nPredicted output:\\n\", output)"
   ]
  },
  {
   "cell_type": "code",
   "execution_count": 19,
   "metadata": {},
   "outputs": [
    {
     "name": "stdout",
     "output_type": "stream",
     "text": [
      "\n",
      "Score: 0.7933333333333333\n"
     ]
    }
   ],
   "source": [
    "# Print scores\n",
    "print(\"\\nScore:\", processor_pipeline.score(X, y))"
   ]
  },
  {
   "cell_type": "code",
   "execution_count": 25,
   "metadata": {},
   "outputs": [
    {
     "name": "stdout",
     "output_type": "stream",
     "text": [
      "\n",
      "Indices of selected features: 0, 1, 4, 7, 19, 22, 24\n"
     ]
    }
   ],
   "source": [
    "# Print the features chosen by the pipeline selector \n",
    "status = processor_pipeline.named_steps['selector'].get_support()\n",
    "selected = [i for i, x in enumerate(status) if x]\n",
    "\n",
    "print(\"\\nIndices of selected features:\", ', '.join([str(x) for x in selected]))"
   ]
  },
  {
   "cell_type": "code",
   "execution_count": null,
   "metadata": {},
   "outputs": [],
   "source": []
  }
 ],
 "metadata": {
  "kernelspec": {
   "display_name": "Python 3",
   "language": "python",
   "name": "python3"
  },
  "language_info": {
   "codemirror_mode": {
    "name": "ipython",
    "version": 3
   },
   "file_extension": ".py",
   "mimetype": "text/x-python",
   "name": "python",
   "nbconvert_exporter": "python",
   "pygments_lexer": "ipython3",
   "version": "3.6.4"
  }
 },
 "nbformat": 4,
 "nbformat_minor": 2
}

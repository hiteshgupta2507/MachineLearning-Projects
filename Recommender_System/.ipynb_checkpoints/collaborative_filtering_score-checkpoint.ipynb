{
 "cells": [
  {
   "cell_type": "code",
   "execution_count": 1,
   "metadata": {},
   "outputs": [],
   "source": [
    "import argparse\n",
    "import json\n",
    "import numpy as np\n",
    "\n",
    "from compute_similarity_score import pearson_score\n",
    "\n",
    "def build_arg_parse():\n",
    "    parser = argparse.ArgumentParser(description = \"Find users who are similar to the input user\")\n",
    "    parser.add_argument('--user1', dest = 'user', required = True, help = 'Input user')\n",
    "    return parser"
   ]
  },
  {
   "cell_type": "code",
   "execution_count": 4,
   "metadata": {},
   "outputs": [],
   "source": [
    "# Finds users in the dataset that are similar to the input user\n",
    "def find_similar_users(dataset, user, num_users):\n",
    "    if user not in dataset:\n",
    "        raise TypeError('Cannot find ' + user + ' in the dataset')\n",
    "    \n",
    "    # Compute Pearson score between inout user and all the users in the dataset\n",
    "    scores = np.array([[x, pearson_score(dataset, user, x)] for x in dataset if x != user])\n",
    "    \n",
    "    # Sort the scores in decreasing order\n",
    "    scores_sorted = np.argsort(scores[:, 1])[::-1]\n",
    "\n",
    "    # Extract the top 'num_users' scores\n",
    "    top_users = scores_sorted[:num_users]\n",
    "    return scores[top_users]"
   ]
  },
  {
   "cell_type": "code",
   "execution_count": 5,
   "metadata": {},
   "outputs": [
    {
     "name": "stderr",
     "output_type": "stream",
     "text": [
      "usage: ipykernel_launcher.py [-h] --user1 USER\n",
      "ipykernel_launcher.py: error: the following arguments are required: --user1\n"
     ]
    },
    {
     "ename": "SystemExit",
     "evalue": "2",
     "output_type": "error",
     "traceback": [
      "An exception has occurred, use %tb to see the full traceback.\n",
      "\u001b[0;31mSystemExit\u001b[0m\u001b[0;31m:\u001b[0m 2\n"
     ]
    },
    {
     "name": "stderr",
     "output_type": "stream",
     "text": [
      "/Applications/anaconda3/lib/python3.6/site-packages/IPython/core/interactiveshell.py:2918: UserWarning: To exit: use 'exit', 'quit', or Ctrl-D.\n",
      "  warn(\"To exit: use 'exit', 'quit', or Ctrl-D.\", stacklevel=1)\n"
     ]
    }
   ],
   "source": [
    "if __name__ == '__main__':\n",
    "    args = build_arg_parse().parse_args()\n",
    "    user = args.user\n",
    "    \n",
    "    rating_file = 'ratings.json'\n",
    "    \n",
    "    with open(rating_file, 'r') as f:\n",
    "        data = json.loads(f.read())\n",
    "        \n",
    "    print('\\n Users similar to ' + user + ':\\n')\n",
    "    similar_users = find_similar_users(data, user, 3)\n",
    "    print('User\\t\\t\\tSimilarity Score')\n",
    "    print('_'*41)\n",
    "    for item in similar_users:\n",
    "        print(item[0], '\\t\\t', round(float(item[1]), 2))"
   ]
  },
  {
   "cell_type": "code",
   "execution_count": null,
   "metadata": {},
   "outputs": [],
   "source": []
  }
 ],
 "metadata": {
  "kernelspec": {
   "display_name": "Python 3",
   "language": "python",
   "name": "python3"
  },
  "language_info": {
   "codemirror_mode": {
    "name": "ipython",
    "version": 3
   },
   "file_extension": ".py",
   "mimetype": "text/x-python",
   "name": "python",
   "nbconvert_exporter": "python",
   "pygments_lexer": "ipython3",
   "version": "3.6.4"
  }
 },
 "nbformat": 4,
 "nbformat_minor": 2
}

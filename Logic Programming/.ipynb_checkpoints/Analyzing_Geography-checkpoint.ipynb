{
 "cells": [
  {
   "cell_type": "code",
   "execution_count": 51,
   "metadata": {},
   "outputs": [],
   "source": [
    "from kanren import run, eq, membero, var, conde, Relation, fact\n",
    "\n",
    "# Initialize the relations:\n",
    "adjacent = Relation()\n",
    "coastal = Relation()\n",
    "\n",
    "# Define inout files to load the data\n",
    "file_coastal = 'coastal_states.txt'\n",
    "file_adjacent = 'adjacent_states.txt'\n",
    "\n",
    "# Load the data\n",
    "with open(file_coastal, 'r') as f:\n",
    "    line = f.read()\n",
    "    coastal_states = line.split(',')\n",
    "    \n",
    "# Add the coastal info to the face base\n",
    "for state in coastal_states:\n",
    "    fact(coastal, state)\n",
    "    \n",
    "# Read the file containing the adjacent states    \n",
    "with open(file_adjacent, 'r') as f:\n",
    "    adjlist = [line.strip().split(',') for line in f if line and line[0].isalpha()]\n",
    "    \n",
    "# Add the adjacency information to the fact base:\n",
    "for L in adjlist:\n",
    "    head, tail = L[0], L[1:]\n",
    "    for state in tail:\n",
    "        fact(adjacent, head, state)"
   ]
  },
  {
   "cell_type": "code",
   "execution_count": 52,
   "metadata": {},
   "outputs": [
    {
     "name": "stdout",
     "output_type": "stream",
     "text": [
      "\n",
      " Is Nevada adjacent to Louisiana?:\n",
      "No\n"
     ]
    }
   ],
   "source": [
    "# Initialize the variables\n",
    "x = var()\n",
    "y = var()\n",
    "\n",
    "# We are now ready to ask some questions\n",
    "# Is Nevada adjacwent to Louisiana?\n",
    "output = run(0, x, adjacent('Nevada', 'Louisiana'))\n",
    "print(\"\\n Is Nevada adjacent to Louisiana?:\")\n",
    "print(\"Yes\" if len(output) else \"No\")"
   ]
  },
  {
   "cell_type": "code",
   "execution_count": 53,
   "metadata": {},
   "outputs": [
    {
     "name": "stdout",
     "output_type": "stream",
     "text": [
      "\n",
      " List of states adjacent to Oregon:\n",
      "California\n",
      "Idaho\n",
      "Washington\n",
      "Nevada\n"
     ]
    }
   ],
   "source": [
    "# States adjacent to Oregon:\n",
    "output = run(0, x, adjacent('Oregon', x)) \n",
    "print(\"\\n List of states adjacent to Oregon:\")\n",
    "for item in output:\n",
    "    print(item)"
   ]
  },
  {
   "cell_type": "code",
   "execution_count": 54,
   "metadata": {},
   "outputs": [
    {
     "name": "stdout",
     "output_type": "stream",
     "text": [
      "\n",
      " List of states adjacent to Mississippi:\n",
      "Louisiana\n",
      "Alabama\n"
     ]
    }
   ],
   "source": [
    "# List of all the coastal states that are adjacent to Mississippi\n",
    "output = run(0, x, adjacent('Mississippi', x), coastal(x)) \n",
    "print(\"\\n List of states adjacent to Mississippi:\")\n",
    "for item in output:\n",
    "    print(item)"
   ]
  },
  {
   "cell_type": "code",
   "execution_count": 57,
   "metadata": {},
   "outputs": [
    {
     "name": "stdout",
     "output_type": "stream",
     "text": [
      "\n",
      " List of 7 states that border a coastal state:\n",
      "North Dakota\n",
      "Arkansas\n",
      "Vermont\n",
      "North Carolina\n",
      "Maryland\n",
      "Connecticut\n",
      "Ohio\n"
     ]
    }
   ],
   "source": [
    "# List of 'n' states that border a coastal state\n",
    "n = 7\n",
    "output = run(n, x, coastal(y), adjacent(x, y)) \n",
    "print('\\n List of ' + str(n) + \" states that border a coastal state:\")\n",
    "for item in output:\n",
    "    print(item)"
   ]
  },
  {
   "cell_type": "code",
   "execution_count": null,
   "metadata": {},
   "outputs": [],
   "source": []
  }
 ],
 "metadata": {
  "kernelspec": {
   "display_name": "Python 3",
   "language": "python",
   "name": "python3"
  },
  "language_info": {
   "codemirror_mode": {
    "name": "ipython",
    "version": 3
   },
   "file_extension": ".py",
   "mimetype": "text/x-python",
   "name": "python",
   "nbconvert_exporter": "python",
   "pygments_lexer": "ipython3",
   "version": "3.6.4"
  }
 },
 "nbformat": 4,
 "nbformat_minor": 2
}

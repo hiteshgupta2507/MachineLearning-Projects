{
 "cells": [
  {
   "cell_type": "code",
   "execution_count": 12,
   "metadata": {},
   "outputs": [],
   "source": [
    "from kanren import run, eq, membero, var, conde, Relation, facts\n",
    "import json"
   ]
  },
  {
   "cell_type": "code",
   "execution_count": 46,
   "metadata": {},
   "outputs": [],
   "source": [
    "# Check if 'x' is the parent of 'y'\n",
    "def parent(x, y):\n",
    "    return conde([father(x, y)], [mother(x, y)])                               "
   ]
  },
  {
   "cell_type": "code",
   "execution_count": 45,
   "metadata": {},
   "outputs": [],
   "source": [
    "# Check if 'x' is the grandparent of y\n",
    "def grandparent(x, y):\n",
    "    temp = var()\n",
    "    return conde((parent(x, temp), parent(temp, y)))"
   ]
  },
  {
   "cell_type": "code",
   "execution_count": 25,
   "metadata": {},
   "outputs": [],
   "source": [
    "# Check for sibling relationship between 'a' and 'b'\n",
    "def sibling(x, y):\n",
    "    temp = var()\n",
    "    return conde((parent(temp, x), parent(temp, y)))"
   ]
  },
  {
   "cell_type": "code",
   "execution_count": 26,
   "metadata": {},
   "outputs": [],
   "source": [
    "# Check if x is y's uncle\n",
    "def uncle(x, y):\n",
    "    temp = var()\n",
    "    return conde((father(temp, x), grandparent(temp, y)))"
   ]
  },
  {
   "cell_type": "code",
   "execution_count": 41,
   "metadata": {},
   "outputs": [],
   "source": [
    "if __name__ == '__main__':\n",
    "    father = Relation()\n",
    "    mother = Relation()\n",
    "    \n",
    "    with open('relationships.json') as f:\n",
    "        d = json.loads(f.read())\n",
    "        \n",
    "    for item in d['father']:\n",
    "        facts(father, (list(item.keys())[0], list(item.values())[0]))\n",
    "        \n",
    "    for item in d['mother']:\n",
    "        facts(mother, (list(item.keys())[0], list(item.values())[0]))    "
   ]
  },
  {
   "cell_type": "code",
   "execution_count": 48,
   "metadata": {},
   "outputs": [
    {
     "name": "stdout",
     "output_type": "stream",
     "text": [
      "\n",
      "List of John's children:\n",
      "David\n",
      "William\n",
      "Adam\n",
      "\n",
      "William's mother:\n",
      "Megan\n",
      "\n",
      "List of Wayne's grandparents:\n",
      "Megan\n",
      "John\n"
     ]
    }
   ],
   "source": [
    "# Define variable x\n",
    "x = var()\n",
    "\n",
    "# We are now ready to ask some questions\n",
    "# John's children\n",
    "name = 'John'\n",
    "output = run(0, x, father(name, x))\n",
    "print(\"\\nList of \" + name + \"'s children:\" )\n",
    "for item in output:\n",
    "    print(item)\n",
    "\n",
    "# William's mother\n",
    "name = 'William'\n",
    "output = run(0, x, mother(x, name))[0]\n",
    "print(\"\\n\" + name + \"'s mother:\\n\" + output)\n",
    "\n",
    "# wayne's grandparent\n",
    "name = 'Wayne'\n",
    "output = run(0, x, grandparent(x, name))\n",
    "print(\"\\nList of \" + name + \"'s grandparents:\" )\n",
    "for item in output:\n",
    "    print(item)\n"
   ]
  },
  {
   "cell_type": "code",
   "execution_count": null,
   "metadata": {},
   "outputs": [],
   "source": []
  }
 ],
 "metadata": {
  "kernelspec": {
   "display_name": "Python 3",
   "language": "python",
   "name": "python3"
  },
  "language_info": {
   "codemirror_mode": {
    "name": "ipython",
    "version": 3
   },
   "file_extension": ".py",
   "mimetype": "text/x-python",
   "name": "python",
   "nbconvert_exporter": "python",
   "pygments_lexer": "ipython3",
   "version": "3.6.4"
  }
 },
 "nbformat": 4,
 "nbformat_minor": 2
}

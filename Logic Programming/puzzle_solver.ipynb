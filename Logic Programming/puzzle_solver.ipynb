{
 "cells": [
  {
   "cell_type": "markdown",
   "metadata": {},
   "source": [
    "##### Building a puzzle solver \n",
    "We will specify various bits and pieces of information about 4 people and ask for the missing piece of information\n",
    "In the logic program we specify the puzzle as follows:\n",
    "\n",
    "1) Steve has a blue car\n",
    "\n",
    "2) The person who wons the cat lives in Canada\n",
    "\n",
    "3) Matthew lives in USA\n",
    "\n",
    "4) The person with the black car lives in Australia\n",
    "\n",
    "5) Jack has a cat\n",
    "\n",
    "6) Alfred lives in Australia\n",
    "\n",
    "7) The person who has a fod lives in France\n",
    "\n",
    "8) Who has a rabbit?"
   ]
  },
  {
   "cell_type": "code",
   "execution_count": 12,
   "metadata": {},
   "outputs": [],
   "source": [
    "from kanren.core import lall\n",
    "from kanren import var, eq, membero, run\n",
    "# Declare the variables\n",
    "people = var()\n",
    "\n",
    "# Define all the rules using lall. The first rule is that there are 4 people\n",
    "# Define the rules\n",
    "rules = lall(\n",
    "    # There are 4 people\n",
    "    (eq, (var(), var(), var(), var()), people),\n",
    "    # Steve has blue car\n",
    "    (membero, ('Steve', var(), var(), var()), people),\n",
    "    # Person who has a cat lives in Canada\n",
    "    (membero, (var(), 'cat', var(), 'Canada'), people),\n",
    "    # Matthew lives in USA\n",
    "    (membero, ('Matthew', var(), var(), 'USA'), people),\n",
    "    # The person who has black car lives in Australia\n",
    "    (membero, (var(), var(), 'black', 'Australia'), people),\n",
    "    # Jack has a cat\n",
    "    (membero, ('Jack', 'cat', var(), var()), people),\n",
    "    # Alfred lives in Australia\n",
    "    (membero, ('Alfred', var(), var(), 'Australia'), people),\n",
    "    # Person who owns the dog lives in France\n",
    "    (membero, (var(), 'dog', var(), 'France'), people),\n",
    "    # Who has a rabbit?\n",
    "    (membero, (var(), 'rabbit', var(), var()), people),\n",
    ")"
   ]
  },
  {
   "cell_type": "code",
   "execution_count": 24,
   "metadata": {},
   "outputs": [],
   "source": [
    "# Run the solver\n",
    "solutions = run(0, people, rules)\n",
    "\n",
    "# Extract the output\n",
    "output = [house for house in solutions [0] if 'rabbit' in house][0][0]"
   ]
  },
  {
   "cell_type": "code",
   "execution_count": 29,
   "metadata": {},
   "outputs": [
    {
     "name": "stdout",
     "output_type": "stream",
     "text": [
      "\n",
      "Matthew is the owner of the rabbit\n",
      "\n",
      " Here are all the details:\n",
      "\n",
      "Name\t\tPet\t\tColor\t\tCountry\n",
      "=========================================================\n",
      "\n",
      "Steve\t\tdog\t\t~_46\t\tFrance\n",
      "\n",
      "Jack\t\tcat\t\t~_49\t\tCanada\n",
      "\n",
      "Matthew\t\trabbit\t\t~_51\t\tUSA\n",
      "\n",
      "Alfred\t\t~_53\t\tblack\t\tAustralia\n"
     ]
    }
   ],
   "source": [
    "# Print the full matrix obtained by the solver\n",
    "# Print the output\n",
    "print(\"\\n\" + output + \" is the owner of the rabbit\")\n",
    "print(\"\\n Here are all the details:\")\n",
    "attribs = ['Name', 'Pet', 'Color', 'Country']\n",
    "print('\\n' + '\\t\\t'.join(attribs))\n",
    "print('=' * 57)\n",
    "for item in solutions[0]:\n",
    "    print('')\n",
    "    print('\\t\\t'.join([str(x) for x in item]))"
   ]
  }
 ],
 "metadata": {
  "kernelspec": {
   "display_name": "Python 3",
   "language": "python",
   "name": "python3"
  },
  "language_info": {
   "codemirror_mode": {
    "name": "ipython",
    "version": 3
   },
   "file_extension": ".py",
   "mimetype": "text/x-python",
   "name": "python",
   "nbconvert_exporter": "python",
   "pygments_lexer": "ipython3",
   "version": "3.6.4"
  }
 },
 "nbformat": 4,
 "nbformat_minor": 2
}

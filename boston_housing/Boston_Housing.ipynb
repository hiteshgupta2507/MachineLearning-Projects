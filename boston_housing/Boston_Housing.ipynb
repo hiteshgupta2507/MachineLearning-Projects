{
 "cells": [
  {
   "cell_type": "code",
   "execution_count": 58,
   "metadata": {},
   "outputs": [
    {
     "name": "stdout",
     "output_type": "stream",
     "text": [
      "Boston Housing Dataset has 489 data points with 4 variables each.\n"
     ]
    }
   ],
   "source": [
    "# Import libraries necessary for the project\n",
    "import pandas as pd\n",
    "import numpy as np\n",
    "from sklearn.model_selection import ShuffleSplit\n",
    "\n",
    "# Import supplementary visualization code visuals.py\n",
    "import visuals_boston as vs\n",
    "\n",
    "# Pretty display for notebooks\n",
    "%matplotlib inline\n",
    "\n",
    "# Load the Boston Housing data\n",
    "data = pd.read_csv('G:\\Udacity\\Boston Housing Market\\housing.csv')\n",
    "prices = data['MEDV']\n",
    "features = data.drop('MEDV', axis=1)\n",
    "\n",
    "# Success\n",
    "print(\"Boston Housing Dataset has {} data points with {} variables each.\" .format(*data.shape)) \n",
    "# We could have also used this \"format(data.shape[0],data.shape[1])\".\n"
   ]
  },
  {
   "cell_type": "code",
   "execution_count": 38,
   "metadata": {},
   "outputs": [
    {
     "name": "stdout",
     "output_type": "stream",
     "text": [
      "Statistics for Boston housing dataset:\n",
      "\n",
      "Minimum price: $105,000.00\n",
      "Maximum price: $1,024,800.00\n",
      "Mean price: $454,342.94\n",
      "Median price $438,900.00\n",
      "Standard deviation of prices: $165,171.13\n"
     ]
    }
   ],
   "source": [
    "# TODO: Minimum price of the data\n",
    "minimum_price = np.amin(prices) # Can also be \"np.amin(np.array(prices))\n",
    "\n",
    "# TODO: Maximum price of the data\n",
    "maximum_price = np.amax(prices)\n",
    "\n",
    "# TODO: Mean price of the data\n",
    "mean_price = np.mean(prices)\n",
    "\n",
    "# TODO: Median price of the data\n",
    "median_price = np.median(prices)\n",
    "\n",
    "# TODO: Standard Deviation price of the data\n",
    "std_price = np.std(prices)\n",
    "\n",
    "# Show the calculated statistics\n",
    "print (\"Statistics for Boston housing dataset:\\n\")\n",
    "print (\"Minimum price: ${:,.2f}\".format(minimum_price))\n",
    "print (\"Maximum price: ${:,.2f}\".format(maximum_price))\n",
    "print (\"Mean price: ${:,.2f}\".format(mean_price))\n",
    "print (\"Median price ${:,.2f}\".format(median_price))\n",
    "print (\"Standard deviation of prices: ${:,.2f}\".format(std_price))"
   ]
  },
  {
   "cell_type": "code",
   "execution_count": 39,
   "metadata": {},
   "outputs": [
    {
     "data": {
      "text/plain": [
       "'Question 1 - Feature Observation\\nAs a reminder, we are using three features from the Boston housing dataset: \\'RM\\', \\'LSTAT\\', and \\'PTRATIO\\'. For each data point (neighborhood):\\n\\'RM\\' is the average number of rooms among homes in the neighborhood.\\n\\'LSTAT\\' is the percentage of homeowners in the neighborhood considered \"lower class\" (working poor).\\n\\'PTRATIO\\' is the ratio of students to teachers in primary and secondary schools in the neighborhood.\\nUsing your intuition, for each of the three features above, do you think that an increase in the value of that feature would lead to an increase in the value of \\'MEDV\\' or a decrease in the value of \\'MEDV\\'? Justify your answer for each.\\n'"
      ]
     },
     "execution_count": 39,
     "metadata": {},
     "output_type": "execute_result"
    }
   ],
   "source": [
    "'''Question 1 - Feature Observation\n",
    "As a reminder, we are using three features from the Boston housing dataset: 'RM', 'LSTAT', and 'PTRATIO'. For each data point (neighborhood):\n",
    "'RM' is the average number of rooms among homes in the neighborhood.\n",
    "'LSTAT' is the percentage of homeowners in the neighborhood considered \"lower class\" (working poor).\n",
    "'PTRATIO' is the ratio of students to teachers in primary and secondary schools in the neighborhood.\n",
    "Using your intuition, for each of the three features above, do you think that an increase in the value of that feature would lead to an increase in the value of 'MEDV' or a decrease in the value of 'MEDV'? Justify your answer for each.\n",
    "'''"
   ]
  },
  {
   "cell_type": "code",
   "execution_count": 40,
   "metadata": {},
   "outputs": [
    {
     "data": {
      "text/plain": [
       "'Answer:\\n1) For RM: If the number of room increases, I would expect this to have a positive impact on the prices i.e. an increase in the value of MEDV\\n2) For LSTAT: If the percentage of homeowner in he neighborhood considered to be \"lower class\" increases , it means that more and more lower class are owning the house ina given neighborhood which is an indication of decline in prices.\\nSo I would expect an increase in LSTAT to have a declining impact on MEDV value.\\n3) For PTRATIO: An increase in the ratio of student to teacher indicates that there is crowding of students and less teachers are available which is affecting the education system in the neighborhood.\\nSo I would expect an increase in PTRATIO to have a declining impact on MEDV value.\\n\\n'"
      ]
     },
     "execution_count": 40,
     "metadata": {},
     "output_type": "execute_result"
    }
   ],
   "source": [
    "'''Answer:\n",
    "1) For RM: If the number of room increases, I would expect this to have a positive impact on the prices i.e. an increase in the value of MEDV\n",
    "2) For LSTAT: If the percentage of homeowner in he neighborhood considered to be \"lower class\" increases , it means that more and more lower class are owning the house ina given neighborhood which is an indication of decline in prices.\n",
    "So I would expect an increase in LSTAT to have a declining impact on MEDV value.\n",
    "3) For PTRATIO: An increase in the ratio of student to teacher indicates that there is crowding of students and less teachers are available which is affecting the education system in the neighborhood.\n",
    "So I would expect an increase in PTRATIO to have a declining impact on MEDV value.\n",
    "\n",
    "'''"
   ]
  },
  {
   "cell_type": "code",
   "execution_count": 41,
   "metadata": {
    "collapsed": true
   },
   "outputs": [],
   "source": [
    "# TODO: Import 'r2_score'\n",
    "\n",
    "from sklearn.metrics import r2_score\n",
    "def performance_metric(y_true,y_predict):\n",
    "    '''calculates and returns the performance score between\n",
    "       true and predicted values based on the metric chosen.  '''\n",
    "    \n",
    "    # TODO: Calculate the performance score between 'y_true' and 'y_predict'\n",
    "    score = r2_score(y_true,y_predict)\n",
    "    \n",
    "    # Return the score\n",
    "    return score"
   ]
  },
  {
   "cell_type": "code",
   "execution_count": 42,
   "metadata": {},
   "outputs": [
    {
     "data": {
      "text/plain": [
       "\"Question 2 - Goodness of Fit\\nAssume that a dataset contains five data points and a model made the following predictions for the target variable:\\nTrue Value\\tPrediction\\n3.0\\t2.5\\n-0.5\\t0.0\\n2.0\\t2.1\\n7.0\\t7.8\\n4.2\\t5.3\\nRun the code cell below to use the performance_metric function and calculate this model's coefficient of determination.\""
      ]
     },
     "execution_count": 42,
     "metadata": {},
     "output_type": "execute_result"
    }
   ],
   "source": [
    "'''Question 2 - Goodness of Fit\n",
    "Assume that a dataset contains five data points and a model made the following predictions for the target variable:\n",
    "True Value\tPrediction\n",
    "3.0\t2.5\n",
    "-0.5\t0.0\n",
    "2.0\t2.1\n",
    "7.0\t7.8\n",
    "4.2\t5.3\n",
    "Run the code cell below to use the performance_metric function and calculate this model's coefficient of determination.'''"
   ]
  },
  {
   "cell_type": "code",
   "execution_count": 50,
   "metadata": {},
   "outputs": [
    {
     "name": "stdout",
     "output_type": "stream",
     "text": [
      "Model has a coefficient of determination, R^2, of 0.923.\n"
     ]
    }
   ],
   "source": [
    "# Calculate the performance of this model\n",
    "score = performance_metric([3, -0.5, 2, 7, 4.2], [2.5, 0.0, 2.1, 7.8, 5.3])\n",
    "print \"Model has a coefficient of determination, R^2, of {:.3f}.\".format(score)"
   ]
  },
  {
   "cell_type": "code",
   "execution_count": 49,
   "metadata": {},
   "outputs": [
    {
     "data": {
      "text/plain": [
       "'\\n- Would you consider this model to have successfully captured the variation of the target variable?\\n- Why or why not?'"
      ]
     },
     "execution_count": 49,
     "metadata": {},
     "output_type": "execute_result"
    }
   ],
   "source": [
    "'''\n",
    "- Would you consider this model to have successfully captured the variation of the target variable?\n",
    "- Why or why not?'''"
   ]
  },
  {
   "cell_type": "code",
   "execution_count": 51,
   "metadata": {},
   "outputs": [
    {
     "data": {
      "text/plain": [
       "'Answer:\\nYes, I would consider that this model has successully captured the variationof the target variable.\\nThe R_2 score of 0.923 indicates that 92.3% of the variance in the dependent variable is being predicted by the independent variable.\\n'"
      ]
     },
     "execution_count": 51,
     "metadata": {},
     "output_type": "execute_result"
    }
   ],
   "source": [
    "'''Answer:\n",
    "Yes, I would consider that this model has successully captured the variationof the target variable.\n",
    "The R_2 score of 0.923 indicates that 92.3% of the variance in the dependent variable is being predicted by the independent variable.\n",
    "'''"
   ]
  },
  {
   "cell_type": "code",
   "execution_count": 55,
   "metadata": {},
   "outputs": [
    {
     "name": "stdout",
     "output_type": "stream",
     "text": [
      "Training and testing split was successful.\n"
     ]
    }
   ],
   "source": [
    "# TODO: Import 'train_test_split'\n",
    "from sklearn.model_selection import train_test_split\n",
    "\n",
    "# TODO: Shuffle and split the data into training and testing subsets\n",
    "X_train, X_test, y_train, y_test = train_test_split(features, prices, test_size=0.20, random_state=1)\n",
    "\n",
    "# Success\n",
    "print \"Training and testing split was successful.\""
   ]
  },
  {
   "cell_type": "code",
   "execution_count": null,
   "metadata": {
    "collapsed": true
   },
   "outputs": [],
   "source": [
    "'''Question 3 - Training and Testing\n",
    "What is the benefit to splitting a dataset into some ratio of training and testing subsets for a learning algorithm?\n",
    "'''"
   ]
  },
  {
   "cell_type": "code",
   "execution_count": null,
   "metadata": {
    "collapsed": true
   },
   "outputs": [],
   "source": [
    "'''Answer:\n",
    "By dividing the data into training and testing will help us identify whether the model we have developed using training data set still holds valid for testing data.\n",
    "Using test data we can validate our model and can see if we have created an over simplified model (Underfit), an over complicated (Overfit) model, \n",
    "or just the right model'''"
   ]
  },
  {
   "cell_type": "code",
   "execution_count": 60,
   "metadata": {},
   "outputs": [
    {
     "data": {
      "image/png": "[encoded data removed]",
      "text/plain": [
       "<matplotlib.figure.Figure at 0xc7bbf98>"
      ]
     },
     "metadata": {},
     "output_type": "display_data"
    }
   ],
   "source": [
    "# Produce learning curves for varying training set sizes and maximum depths\n",
    "vs.ModelLearning(features, prices)"
   ]
  },
  {
   "cell_type": "code",
   "execution_count": 62,
   "metadata": {},
   "outputs": [
    {
     "data": {
      "text/plain": [
       "'\\nQuestion 4 - Learning the Data\\nChoose one of the graphs above and state the maximum depth for the model.\\nWhat happens to the score of the training curve as more training points are added? What about the testing curve?\\nWould having more training points benefit the model?'"
      ]
     },
     "execution_count": 62,
     "metadata": {},
     "output_type": "execute_result"
    }
   ],
   "source": [
    "'''\n",
    "Question 4 - Learning the Data\n",
    "Choose one of the graphs above and state the maximum depth for the model.\n",
    "What happens to the score of the training curve as more training points are added? What about the testing curve?\n",
    "Would having more training points benefit the model?'''"
   ]
  },
  {
   "cell_type": "code",
   "execution_count": 61,
   "metadata": {},
   "outputs": [
    {
     "data": {
      "text/plain": [
       "\"Answer:\\n1) I am chosing graph 4 wih a max_depth = 10. \\n2) The training score and testing score are almost constant with increasing the training data set.\\n3) Including more training points wouldn't have benefit the model as the score is constant.\\n\""
      ]
     },
     "execution_count": 61,
     "metadata": {},
     "output_type": "execute_result"
    }
   ],
   "source": [
    "'''Answer:\n",
    "1) I am chosing graph 4 wih a max_depth = 10. \n",
    "2) The training score and testing score are almost constant with increasing the training data set.\n",
    "3) Including more training points wouldn't have benefit the model as the score is constant.\n",
    "'''"
   ]
  },
  {
   "cell_type": "code",
   "execution_count": 63,
   "metadata": {},
   "outputs": [
    {
     "data": {
      "image/png": "[encoded data removed]",
      "text/plain": [
       "<matplotlib.figure.Figure at 0xcb15978>"
      ]
     },
     "metadata": {},
     "output_type": "display_data"
    }
   ],
   "source": [
    "vs.ModelComplexity(X_train, y_train)"
   ]
  },
  {
   "cell_type": "code",
   "execution_count": 64,
   "metadata": {},
   "outputs": [
    {
     "data": {
      "text/plain": [
       "'Question 5 - Bias-Variance Tradeoff\\nWhen the model is trained with a maximum depth of 1, does the model suffer from high bias or from high variance?\\nHow about when the model is trained with a maximum depth of 10? What visual cues in the graph justify your conclusions?\\n'"
      ]
     },
     "execution_count": 64,
     "metadata": {},
     "output_type": "execute_result"
    }
   ],
   "source": [
    "'''Question 5 - Bias-Variance Tradeoff\n",
    "When the model is trained with a maximum depth of 1, does the model suffer from high bias or from high variance?\n",
    "How about when the model is trained with a maximum depth of 10? What visual cues in the graph justify your conclusions?\n",
    "'''"
   ]
  },
  {
   "cell_type": "code",
   "execution_count": 65,
   "metadata": {},
   "outputs": [
    {
     "data": {
      "text/plain": [
       "'Answer:\\n1) With a maximum depth = 1, the model score is not good for both training and validation, hence high bias.\\n2) With a maximum depth = 10, the model has a good score for teting but a declining score for validation, hence high variance.'"
      ]
     },
     "execution_count": 65,
     "metadata": {},
     "output_type": "execute_result"
    }
   ],
   "source": [
    "'''Answer:\n",
    "1) With a maximum depth = 1, the model score is not good for both training and validation, hence high bias.\n",
    "2) With a maximum depth = 10, the model has a good score for teting but a declining score for validation, hence high variance.'''"
   ]
  },
  {
   "cell_type": "code",
   "execution_count": null,
   "metadata": {
    "collapsed": true
   },
   "outputs": [],
   "source": [
    "'''Question 6 - Best-Guess Optimal Model\n",
    "Which maximum depth do you think results in a model that best generalizes to unseen data?\n",
    "What intuition lead you to this answer?'''"
   ]
  },
  {
   "cell_type": "code",
   "execution_count": 66,
   "metadata": {},
   "outputs": [
    {
     "data": {
      "text/plain": [
       "'Answer:\\n1) I would select maximum depth = 5.\\n2) Looking at the graph, we can see that he training score is increasing with increase in the maximum depth, so the deciding factor\\nto choose maximum depth is validation score. The validation score after max_depth = 5 starts decreasing. The validation score for \\nmax_depth = 5 is slightly more (or approximately the same) than max_depth = 4. However the training score for max_depth =5 is more than\\nmax_depth = 4. Hence I would select max_depth = 5'"
      ]
     },
     "execution_count": 66,
     "metadata": {},
     "output_type": "execute_result"
    }
   ],
   "source": [
    "'''Answer:\n",
    "1) I would select maximum depth = 5.\n",
    "2) Looking at the graph, we can see that the training score is increasing with increase in the maximum depth, so the deciding factor\n",
    "to choose maximum depth is validation score. The validation score after max_depth = 5 starts decreasing. The validation score for \n",
    "max_depth = 5 is slightly more (or approximately the same) than max_depth = 4. However the training score for max_depth =5 is more than\n",
    "max_depth = 4. Hence I would select max_depth = 5'''"
   ]
  },
  {
   "cell_type": "code",
   "execution_count": 67,
   "metadata": {},
   "outputs": [
    {
     "data": {
      "text/plain": [
       "'Question 7 - Grid Search\\nWhat is the grid search technique?\\nHow it can be applied to optimize a learning algorithm?'"
      ]
     },
     "execution_count": 67,
     "metadata": {},
     "output_type": "execute_result"
    }
   ],
   "source": [
    "'''Question 7 - Grid Search\n",
    "What is the grid search technique?\n",
    "How it can be applied to optimize a learning algorithm?'''"
   ]
  },
  {
   "cell_type": "code",
   "execution_count": 68,
   "metadata": {},
   "outputs": [
    {
     "data": {
      "text/plain": [
       "\"Answer:\\n1) A grid searc htechnique is a cross validation technique which helps the modeler to pick the best model based on certain critea.\\n2) Let's consider an example where we are fiting an SVC model but we have to decide which model will fit our data well given for\\nKernel = linear or polynomal and Gamma= 0,1,10,....etc. The grid search technique will then help us to calculate bunch of models acorss this \\ndifferent grid consitions using training and cross validation data. We can pick the model with the highest F1 score.\""
      ]
     },
     "execution_count": 68,
     "metadata": {},
     "output_type": "execute_result"
    }
   ],
   "source": [
    "'''Answer:\n",
    "1) A grid searc htechnique is a cross validation technique which helps the modeler to pick the best model based on certain critea.\n",
    "2) Let's consider an example where we are fiting an SVC model but we have to decide which model will fit our data well given for\n",
    "Kernel = linear or polynomal and Gamma= 0,1,10,....etc. The grid search technique will then help us to calculate bunch of models acorss this \n",
    "different grid consitions using training and cross validation data. We can pick the model with the highest F1 score.''' "
   ]
  },
  {
   "cell_type": "code",
   "execution_count": 69,
   "metadata": {},
   "outputs": [
    {
     "data": {
      "text/plain": [
       "'Question 8 - Cross-Validation\\nWhat is the k-fold cross-validation training technique?\\nWhat benefit does this technique provide for grid search when optimizing a model?'"
      ]
     },
     "execution_count": 69,
     "metadata": {},
     "output_type": "execute_result"
    }
   ],
   "source": [
    "'''Question 8 - Cross-Validation\n",
    "What is the k-fold cross-validation training technique?\n",
    "What benefit does this technique provide for grid search when optimizing a model?'''"
   ]
  },
  {
   "cell_type": "code",
   "execution_count": 72,
   "metadata": {},
   "outputs": [
    {
     "data": {
      "text/plain": [
       "'Answer:\\n1) K-fold cross validation techinique, divides the training data into K group and each time it uses a different bucket as a test data.\\nIt trains the model K times. The final model is the average of all the results.\\n2) In grid search technique the test data is fixed whereas the test data in K-fold changes number of times depending on the value of K\\n. Therefore our model is being validated multiple times (based on K) for different test data. This makes validating the model even stronger. '"
      ]
     },
     "execution_count": 72,
     "metadata": {},
     "output_type": "execute_result"
    }
   ],
   "source": [
    "'''Answer:\n",
    "1) K-fold cross validation techinique, divides the training data into K group and each time it uses a different bucket as a test data.\n",
    "It trains the model K times. The final model is the average of all the results.\n",
    "2) In grid search technique the test data is fixed whereas the test data in K-fold changes number of times depending on the value of K\n",
    ". Therefore our model is being validated multiple times (based on K) for different test data. This makes validating the model even stronger. '''"
   ]
  },
  {
   "cell_type": "code",
   "execution_count": 104,
   "metadata": {},
   "outputs": [],
   "source": [
    "# TODO: Import 'make_scorer', 'DecisionTreeRegressor', and 'GridSearchCV'\n",
    "\n",
    "from sklearn.metrics import make_scorer\n",
    "from sklearn.tree import DecisionTreeRegressor\n",
    "from sklearn.model_selection import GridSearchCV\n",
    "\n",
    "def fit_model(X,y):\n",
    "    \"\"\" Performs grid search over the 'max_depth' parameter for a \n",
    "        decision tree regressor trained on the input data [X, y]. \"\"\"\n",
    "    \n",
    "    # Create cross-validation sets from the training data\n",
    "    cv_sets = ShuffleSplit(n_splits = 10, test_size = .20, train_size = None, random_state = 0)\n",
    "    \n",
    "    # TODO: Create a decision tree regressor object\n",
    "    regressor = DecisionTreeRegressor()\n",
    "    \n",
    "    # TODO: Create a dictionary for the parameter 'max_depth' with a range from 1 to 10\n",
    "    params = {\"max_depth\" : range(1, 11)}  # can also be params = {\"max_depth\" : [1, 2, 3, 4, 5, 6, 7, 8, 9, 10]}\n",
    "    \n",
    "    # TODO: Transform 'performance_metric' into a scoring function using 'make_scorer' \n",
    "    scoring_fnc = make_scorer(performance_metric)\n",
    "    \n",
    "    # TODO: Create the grid search cv object --> GridSearchCV()\n",
    "    # Make sure to include the right parameters in the object:\n",
    "    # (estimator, param_grid, scoring, cv) which have values 'regressor', 'params', 'scoring_fnc', and 'cv_sets' respectively.\n",
    "    grid = GridSearchCV(estimator = regressor, param_grid = params, scoring = scoring_fnc, cv = cv_sets)\n",
    "    \n",
    "    # Fit the grid search object to the data to compute the optimal model\n",
    "    grid = grid.fit(X, y)\n",
    "    \n",
    "    # Return the optimal model after fitting the data\n",
    "    return grid.best_estimator_\n"
   ]
  },
  {
   "cell_type": "code",
   "execution_count": 107,
   "metadata": {
    "scrolled": true
   },
   "outputs": [
    {
     "data": {
      "text/plain": [
       "'Question 9 - Optimal Model\\nWhat maximum depth does the optimal model have? How does this result compare to your guess in Question 6?\\nRun the code block below to fit the decision tree regressor to the training data and produce an optimal model.'"
      ]
     },
     "execution_count": 107,
     "metadata": {},
     "output_type": "execute_result"
    }
   ],
   "source": [
    "'''Question 9 - Optimal Model\n",
    "What maximum depth does the optimal model have? How does this result compare to your guess in Question 6?\n",
    "Run the code block below to fit the decision tree regressor to the training data and produce an optimal model.'''"
   ]
  },
  {
   "cell_type": "code",
   "execution_count": 108,
   "metadata": {},
   "outputs": [
    {
     "name": "stdout",
     "output_type": "stream",
     "text": [
      "Parameter 'max_depth' is 5 for the optimal model.\n"
     ]
    }
   ],
   "source": [
    "# Fit the training data to the model using grid search\n",
    "reg = fit_model(X_train, y_train)\n",
    "\n",
    "# Produce the value for 'max_depth'\n",
    "print \"Parameter 'max_depth' is {} for the optimal model.\".format(reg.get_params()['max_depth'])"
   ]
  },
  {
   "cell_type": "code",
   "execution_count": null,
   "metadata": {
    "collapsed": true
   },
   "outputs": [],
   "source": [
    "'''Answer:\n",
    "The model chose max_depth of 5. This is same the one I chose in Question 6'''"
   ]
  },
  {
   "cell_type": "code",
   "execution_count": 109,
   "metadata": {},
   "outputs": [
    {
     "data": {
      "text/plain": [
       "'Question 10 - Predicting Selling Prices\\nImagine that you were a real estate agent in the Boston area looking to use this model to help price homes owned by your clients that they wish to sell. You have collected the following information from three of your clients:\\nFeature\\tClient 1\\tClient 2\\tClient 3\\nTotal number of rooms in home\\t5 rooms\\t4 rooms\\t8 rooms\\nNeighborhood poverty level (as %)\\t17%\\t32%\\t3%\\nStudent-teacher ratio of nearby schools\\t15-to-1\\t22-to-1\\t12-to-1\\nWhat price would you recommend each client sell his/her home at?\\nDo these prices seem reasonable given the values for the respective features?'"
      ]
     },
     "execution_count": 109,
     "metadata": {},
     "output_type": "execute_result"
    }
   ],
   "source": [
    "'''Question 10 - Predicting Selling Prices\n",
    "Imagine that you were a real estate agent in the Boston area looking to use this model to help price homes owned by your clients that they wish to sell. You have collected the following information from three of your clients:\n",
    "Feature\tClient 1\tClient 2\tClient 3\n",
    "Total number of rooms in home\t5 rooms\t4 rooms\t8 rooms\n",
    "Neighborhood poverty level (as %)\t17%\t32%\t3%\n",
    "Student-teacher ratio of nearby schools\t15-to-1\t22-to-1\t12-to-1\n",
    "What price would you recommend each client sell his/her home at?\n",
    "Do these prices seem reasonable given the values for the respective features?'''"
   ]
  },
  {
   "cell_type": "code",
   "execution_count": 120,
   "metadata": {},
   "outputs": [
    {
     "name": "stdout",
     "output_type": "stream",
     "text": [
      "Predicted selling price for Client 1's home: $419,700.00\n",
      "Predicted selling price for Client 2's home: $287,100.00\n",
      "Predicted selling price for Client 3's home: $927,500.00\n"
     ]
    }
   ],
   "source": [
    "# Produce a matrix with client data\n",
    "client_data = [[5, 17, 15],  # Client #1\n",
    "               [4, 32, 22],  # Client #2\n",
    "               [8, 3, 12]]   # Client #3\n",
    "\n",
    "# Show prediction\n",
    "for i, price in enumerate(reg.predict(client_data)):\n",
    "    print(\"Predicted selling price for Client {}'s home: ${:,.2f}\" .format(i+1, price))\n"
   ]
  },
  {
   "cell_type": "code",
   "execution_count": 111,
   "metadata": {},
   "outputs": [
    {
     "data": {
      "text/plain": [
       "\"Answer:\\n1) I would recommend the following prices:\\n    Predicted selling price for Client 1's home: $419,700.00\\n    Predicted selling price for Client 2's home: $287,100.00\\n    Predicted selling price for Client 3's home: $927,500.00\\n    \\n2) The prices seems reasonable. They are within the range and per the expecation. Client 3 will have the highest price.\\nclient 1 will have the 2nd highest price.\""
      ]
     },
     "execution_count": 111,
     "metadata": {},
     "output_type": "execute_result"
    }
   ],
   "source": [
    "'''Answer:\n",
    "1) I would recommend the following prices:\n",
    "    Predicted selling price for Client 1's home: $419,700.00\n",
    "    Predicted selling price for Client 2's home: $287,100.00\n",
    "    Predicted selling price for Client 3's home: $927,500.00\n",
    "    \n",
    "2) The prices seems reasonable. They are within the range and per the expecation. Client 3 will have the highest price.\n",
    "client 1 will have the 2nd highest price.'''"
   ]
  },
  {
   "cell_type": "code",
   "execution_count": 112,
   "metadata": {},
   "outputs": [
    {
     "name": "stdout",
     "output_type": "stream",
     "text": [
      "Trial 1: $391,183.33\n",
      "Trial 2: $419,700.00\n",
      "Trial 3: $415,800.00\n",
      "Trial 4: $420,622.22\n",
      "Trial 5: $418,377.27\n",
      "Trial 6: $411,931.58\n",
      "Trial 7: $399,663.16\n",
      "Trial 8: $407,232.00\n",
      "Trial 9: $351,577.61\n",
      "Trial 10: $413,700.00\n",
      "\n",
      "Range in prices: $69,044.61\n"
     ]
    }
   ],
   "source": [
    "vs.PredictTrials(features, prices, fit_model, client_data)"
   ]
  },
  {
   "cell_type": "code",
   "execution_count": 118,
   "metadata": {},
   "outputs": [
    {
     "data": {
      "text/plain": [
       "'Question 11 - Applicability\\nIn a few sentences, discuss whether the constructed model should or should not be used in a real-world setting.\\n'"
      ]
     },
     "execution_count": 118,
     "metadata": {},
     "output_type": "execute_result"
    }
   ],
   "source": [
    "'''Question 11 - Applicability\n",
    "In a few sentences, discuss whether the constructed model should or should not be used in a real-world setting.\n",
    "'''"
   ]
  },
  {
   "cell_type": "code",
   "execution_count": 121,
   "metadata": {},
   "outputs": [
    {
     "data": {
      "text/plain": [
       "\"Answer\\nvs.PredictTrials only produced data for client 1. The range calculated is a lot i.e more than 10% of the predicted values calculated from the model.\\nI would be very cautious for using this model in the real-world setting.\\n\\n1) The dataset is not upto date and therefor it makes it irrelevant to use today and yes inflation plays an import role in pricing as inflation causes the price to rise.\\n2) The feaures consisdered are not enough. For e.g square foot will be useful as it adds more value than only considering number of rooms.\\n3) The model is not robust enough as we have seen from point 2 above the model lack other features for prediction.\\n4) Data from Urban city won't be applicable to predict the rural city home as the dynamics are totally different. Income level, education system, amenities are all different.\\n5) Every house in a neighborhood share the same available external factors like schooling, amenities, etc therefor on an average basis it is\\nfair to judge the price of an individual home based on the enire neighborhood.\""
      ]
     },
     "execution_count": 121,
     "metadata": {},
     "output_type": "execute_result"
    }
   ],
   "source": [
    "'''Answer\n",
    "vs.PredictTrials only produced data for client 1. The range calculated is a lot i.e more than 10% of the predicted values calculated from the model.\n",
    "I would be very cautious for using this model in the real-world setting.\n",
    "\n",
    "1) The dataset is not upto date and therefor it makes it irrelevant to use today and yes inflation plays an import role in pricing as inflation causes the price to rise.\n",
    "2) The feaures consisdered are not enough. For e.g square foot will be useful as it adds more value than only considering number of rooms.\n",
    "3) The model is not robust enough as we have seen from point 2 above the model lack other features for prediction.\n",
    "4) Data from Urban city won't be applicable to predict the rural city home as the dynamics are totally different. Income level, education system, amenities are all different.\n",
    "5) Every house in a neighborhood share the same available external factors like schooling, amenities, etc therefor on an average basis it is\n",
    "fair to judge the price of an individual home based on the enire neighborhood.'''"
   ]
  },
  {
   "cell_type": "code",
   "execution_count": null,
   "metadata": {
    "collapsed": true
   },
   "outputs": [],
   "source": []
  },
  {
   "cell_type": "code",
   "execution_count": null,
   "metadata": {
    "collapsed": true
   },
   "outputs": [],
   "source": []
  }
 ],
 "metadata": {
  "kernelspec": {
   "display_name": "Python 2",
   "language": "python",
   "name": "python2"
  },
  "language_info": {
   "codemirror_mode": {
    "name": "ipython",
    "version": 2
   },
   "file_extension": ".py",
   "mimetype": "text/x-python",
   "name": "python",
   "nbconvert_exporter": "python",
   "pygments_lexer": "ipython2",
   "version": "2.7.13"
  }
 },
 "nbformat": 4,
 "nbformat_minor": 2
}

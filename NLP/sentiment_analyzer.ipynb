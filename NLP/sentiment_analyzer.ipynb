{
 "cells": [
  {
   "cell_type": "markdown",
   "metadata": {},
   "source": [
    "##### Sentiment Analysis\n",
    "It is a process of determining the sentiment of a given piece of text. For example it can be used to determine whether a movie review is positive or negative. It is frequently used to analyze marketing campaigns, opinion polls, social media presence, product reviews on e-commerce sites, and so on.\n",
    "\n",
    "We will ue a Naive Bayes classifier to build this classifier. We first need to extract all tge unique words from the text. The NLTK classifier needs this data to be arranged in the form of a dictionary so that it can ingest it. Once we divide the text data into training anf testing datasets, we will train the Naive Bayes classifier to classify the reviews into positive and negative. We will also print out the top informative words to indicate positive and negative reviews. This information is interesting because it tells us what words ar ebeing used to denote various reactions. "
   ]
  },
  {
   "cell_type": "code",
   "execution_count": null,
   "metadata": {},
   "outputs": [],
   "source": [
    "from nltk.corpus import movie_reviews\n",
    "from nltk.classify import NaiveBayesClassifier\n",
    "from nltk.classify.util import accuracy as nltk_accuracy"
   ]
  },
  {
   "cell_type": "code",
   "execution_count": 3,
   "metadata": {},
   "outputs": [],
   "source": [
    "# Extract feature from the input list of words\n",
    "def extract_features(words):\n",
    "    return dict([(word, True) for word in words])"
   ]
  },
  {
   "cell_type": "code",
   "execution_count": 24,
   "metadata": {},
   "outputs": [
    {
     "name": "stdout",
     "output_type": "stream",
     "text": [
      "\n",
      "Number of training datapoints:  1600\n",
      "\n",
      "Number of test datapoints:  400\n",
      "\n",
      "Accuracy of the classifier:  0.735\n",
      "\n",
      "Top 15 most informative words:\n",
      "1. outstanding\n",
      "2. insulting\n",
      "3. vulnerable\n",
      "4. ludicrous\n",
      "5. uninvolving\n",
      "6. astounding\n",
      "7. avoids\n",
      "8. fascination\n",
      "9. animators\n",
      "10. darker\n",
      "11. anna\n",
      "12. symbol\n",
      "13. seagal\n",
      "14. affecting\n",
      "15. idiotic\n",
      "\n",
      "Movie review predictions:\n",
      "\n",
      "Review: I think the story was terrible and the characters were very weak\n",
      "Predicted sentiment Negative\n",
      "Probability:  0.8\n",
      "\n",
      "Review: People say that the director of the movie is amazing\n",
      "Predicted sentiment Positive\n",
      "Probability:  0.6\n",
      "\n",
      "Review: This is such an idiotic movie. I will not recommend it to anyone.\n",
      "Predicted sentiment Negative\n",
      "Probability:  0.87\n"
     ]
    }
   ],
   "source": [
    "# Define the main function and load the labeled movie_reviews\n",
    "if __name__ == \"__main__\":\n",
    "    # Load the reviews from the corpus\n",
    "    fileids_pos = movie_reviews.fileids('pos')\n",
    "    fileids_neg = movie_reviews.fileids('neg')\n",
    "    \n",
    "    # Extract the features from the reviews\n",
    "    features_pos = [(extract_features(movie_reviews.words(fileids = [f])), 'Positive') for f in fileids_pos]\n",
    "    features_neg = [(extract_features(movie_reviews.words(fileids = [f])), 'Negative') for f in fileids_neg]\n",
    "    \n",
    "    # Define the train and test split (80% and 20%)\n",
    "    threshold = 0.8\n",
    "    num_pos = int(threshold * len(features_pos))\n",
    "    num_neg = int(threshold * len(features_neg))\n",
    "    \n",
    "    # Create training and testing datasets\n",
    "    features_train = features_pos[:num_pos] + features_neg[:num_neg]\n",
    "    features_test = features_pos[num_pos:] + features_neg[num_neg:]\n",
    "    \n",
    "    # Print the number of datapoints used\n",
    "    print('\\nNumber of training datapoints: ', len(features_train))\n",
    "    print('\\nNumber of test datapoints: ', len(features_test))\n",
    "    \n",
    "    # Train a Naive Bayes Classifier\n",
    "    classifier = NaiveBayesClassifier.train(features_train)\n",
    "    print('\\nAccuracy of the classifier: ', nltk_accuracy(classifier, features_test))\n",
    "    \n",
    "    # Print the top N most informative words\n",
    "    N = 15\n",
    "    print('\\nTop ' + str(N) + ' most informative words:')\n",
    "    for i, item in enumerate(classifier.most_informative_features()):\n",
    "        print(str(i + 1) + '. ' + item[0])\n",
    "        if i == N - 1:\n",
    "            break\n",
    "    \n",
    "    # Test input movie reviews\n",
    "    input_reviews = [\n",
    "        'I think the story was terrible and the characters were very weak',\n",
    "        'People say that the director of the movie is amazing',\n",
    "        'This is such an idiotic movie. I will not recommend it to anyone.'\n",
    "    ]\n",
    "    \n",
    "    # Iterate through the test input movie reviews\n",
    "    print('\\nMovie review predictions:')\n",
    "    for review in input_reviews:\n",
    "        print('\\nReview:', review)\n",
    "        \n",
    "        # Compute the probabilities\n",
    "        probabilities = classifier.prob_classify(extract_features(review.split())) # To break the reviews into words\n",
    "        \n",
    "        # Pick the maximum value\n",
    "        predicted_sentiment = probabilities.max()\n",
    "        \n",
    "        # Print outputs\n",
    "        print(\"Predicted sentiment\", predicted_sentiment)\n",
    "        print(\"Probability: \" ,round(probabilities.prob(predicted_sentiment), 2))"
   ]
  }
 ],
 "metadata": {
  "kernelspec": {
   "display_name": "Python 3",
   "language": "python",
   "name": "python3"
  },
  "language_info": {
   "codemirror_mode": {
    "name": "ipython",
    "version": 3
   },
   "file_extension": ".py",
   "mimetype": "text/x-python",
   "name": "python",
   "nbconvert_exporter": "python",
   "pygments_lexer": "ipython3",
   "version": "3.6.4"
  }
 },
 "nbformat": 4,
 "nbformat_minor": 2
}

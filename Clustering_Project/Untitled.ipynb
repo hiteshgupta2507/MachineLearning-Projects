{
 "cells": [
  {
   "cell_type": "code",
   "execution_count": 41,
   "metadata": {},
   "outputs": [],
   "source": [
    "import numpy as np\n",
    "a= np.random.randn(20,4)\n",
    "b= np.random.randn(1,1)\n",
    "c=a*b"
   ]
  },
  {
   "cell_type": "code",
   "execution_count": 42,
   "metadata": {},
   "outputs": [
    {
     "data": {
      "text/plain": [
       "array([[ 0.1259032 ,  1.16742082,  0.16794242,  1.97148114],\n",
       "       [-0.83758674, -0.45942197,  1.55952272, -2.50808641],\n",
       "       [-0.60978111,  0.72916497, -0.19017897,  0.27764158],\n",
       "       [-1.05608897,  0.58269186,  0.57034358,  0.11681301],\n",
       "       [ 0.08121309, -0.8376465 , -0.77094887,  2.45543351],\n",
       "       [ 0.3133705 , -0.98773598,  1.12525164, -0.41652811],\n",
       "       [-1.38981962,  1.1037284 , -1.21035791, -0.85092303],\n",
       "       [ 1.22078634, -0.65864994, -1.91695417,  0.55370177],\n",
       "       [ 0.58764132, -0.78135214,  0.8243664 ,  0.0136263 ],\n",
       "       [ 0.04160789,  0.53068615, -0.49769342,  0.32363919],\n",
       "       [ 0.21829333, -0.616444  , -0.34991043, -0.65918829],\n",
       "       [ 1.881667  , -1.30757994,  0.22602111, -0.61235124],\n",
       "       [-0.14998195,  0.52361547,  0.1171707 , -0.56281565],\n",
       "       [ 0.49011947,  0.46831162, -0.2812779 ,  0.50414534],\n",
       "       [-0.99549585, -0.25786735,  0.33792481,  0.93338329],\n",
       "       [ 0.4413227 ,  1.79616534, -0.83643036,  0.67369089],\n",
       "       [-0.30954518, -0.33827386, -0.44203371,  1.24383164],\n",
       "       [-2.12112214, -0.89597935,  0.02086174,  0.66358734],\n",
       "       [-0.258788  ,  1.2378264 , -0.69260148, -0.65694112],\n",
       "       [ 1.47406501, -0.91038458,  1.10500228,  0.82725148]])"
      ]
     },
     "execution_count": 42,
     "metadata": {},
     "output_type": "execute_result"
    }
   ],
   "source": [
    "a"
   ]
  },
  {
   "cell_type": "code",
   "execution_count": 43,
   "metadata": {},
   "outputs": [
    {
     "data": {
      "text/plain": [
       "(3, 4, 2)"
      ]
     },
     "execution_count": 43,
     "metadata": {},
     "output_type": "execute_result"
    }
   ],
   "source": [
    "import numpy as np\n",
    "a= np.random.randn(3,4,1)\n",
    "b= np.random.randn(3,1,2)\n",
    "c=np.random.randn(3,1,1)\n",
    "d=c + a*b\n",
    "d.shape\n"
   ]
  },
  {
   "cell_type": "code",
   "execution_count": 46,
   "metadata": {},
   "outputs": [
    {
     "data": {
      "text/plain": [
       "array([[[-0.94840594],\n",
       "        [-0.86568978],\n",
       "        [ 0.86939807],\n",
       "        [-0.52487017]],\n",
       "\n",
       "       [[-0.57021025],\n",
       "        [-0.80438897],\n",
       "        [-0.10857651],\n",
       "        [ 0.89312593]],\n",
       "\n",
       "       [[ 0.64510048],\n",
       "        [-0.25909825],\n",
       "        [ 1.51549539],\n",
       "        [-1.11118844]]])"
      ]
     },
     "execution_count": 46,
     "metadata": {},
     "output_type": "execute_result"
    }
   ],
   "source": [
    "a"
   ]
  },
  {
   "cell_type": "code",
   "execution_count": 49,
   "metadata": {},
   "outputs": [
    {
     "data": {
      "text/plain": [
       "array([[[-1.71418118,  0.46032577]],\n",
       "\n",
       "       [[ 1.64956738, -0.70091163]],\n",
       "\n",
       "       [[ 1.13443592,  1.69658478]]])"
      ]
     },
     "execution_count": 49,
     "metadata": {},
     "output_type": "execute_result"
    }
   ],
   "source": [
    "b"
   ]
  },
  {
   "cell_type": "code",
   "execution_count": 4,
   "metadata": {},
   "outputs": [
    {
     "data": {
      "text/plain": [
       "40"
      ]
     },
     "execution_count": 4,
     "metadata": {},
     "output_type": "execute_result"
    }
   ],
   "source": [
    "x=5\n",
    "y=6\n",
    "x *= y + 2\n",
    "x"
   ]
  },
  {
   "cell_type": "code",
   "execution_count": null,
   "metadata": {},
   "outputs": [],
   "source": []
  },
  {
   "cell_type": "code",
   "execution_count": 5,
   "metadata": {},
   "outputs": [
    {
     "data": {
      "text/plain": [
       "389"
      ]
     },
     "execution_count": 5,
     "metadata": {},
     "output_type": "execute_result"
    }
   ],
   "source": [
    "x = 3893 // 10\n",
    "x"
   ]
  },
  {
   "cell_type": "code",
   "execution_count": 10,
   "metadata": {},
   "outputs": [
    {
     "name": "stdout",
     "output_type": "stream",
     "text": [
      " ___ \n",
      "AAA\n",
      " ___ \n",
      "AAA\n",
      " ___ \n",
      "AAA\n",
      " ___ \n",
      "AAA\n",
      " ___ \n"
     ]
    }
   ],
   "source": [
    "A = '___'.join([' ', ' '])\n",
    "\n",
    "print('\\n'.join((A,B,A,B,A,B,A,B,A)))"
   ]
  },
  {
   "cell_type": "code",
   "execution_count": 21,
   "metadata": {},
   "outputs": [],
   "source": [
    "# Here’s the starter code:\n",
    "def remove_duplicates(x):\n",
    "    ### START CODE HERE ###\n",
    "    new_list =[]\n",
    "    for i in range(0,len(x)):\n",
    "        for j in range(0,len(new_list)):\n",
    "            if x[i] != new_list[j]:\n",
    "                new_list[i] = x[i]\n",
    "                break\n",
    "\n",
    "    ### END CODE HERE ###\n",
    "    return new_list\n",
    "\n"
   ]
  },
  {
   "cell_type": "code",
   "execution_count": 22,
   "metadata": {},
   "outputs": [
    {
     "data": {
      "text/plain": [
       "[]"
      ]
     },
     "execution_count": 22,
     "metadata": {},
     "output_type": "execute_result"
    }
   ],
   "source": [
    "remove_duplicates([1,3,5,6,2,3,4])"
   ]
  },
  {
   "cell_type": "code",
   "execution_count": 23,
   "metadata": {},
   "outputs": [
    {
     "data": {
      "text/plain": [
       "[1, 3, 5, 6, 2, 4]"
      ]
     },
     "execution_count": 23,
     "metadata": {},
     "output_type": "execute_result"
    }
   ],
   "source": [
    "from collections import OrderedDict\n",
    "list(OrderedDict.fromkeys([1,3,5,6,2,3,4]))"
   ]
  },
  {
   "cell_type": "code",
   "execution_count": 24,
   "metadata": {},
   "outputs": [],
   "source": [
    "# Here’s the starter code:\n",
    "from collections import OrderedDict\n",
    "def remove_duplicates(x):  \n",
    "    ### START CODE HERE ###\n",
    "    new_list = list(OrderedDict.fromkeys(x))\n",
    "        \n",
    "        \n",
    "\n",
    "\n",
    "    ### END CODE HERE ###\n",
    "    return new_list\n",
    "\n"
   ]
  },
  {
   "cell_type": "code",
   "execution_count": 26,
   "metadata": {},
   "outputs": [
    {
     "data": {
      "text/plain": [
       "[1, 3, 5, 6, 2, 4]"
      ]
     },
     "execution_count": 26,
     "metadata": {},
     "output_type": "execute_result"
    }
   ],
   "source": [
    "remove_duplicates([1,3,5,6,2,3,4,1,1,1])"
   ]
  },
  {
   "cell_type": "code",
   "execution_count": 33,
   "metadata": {},
   "outputs": [],
   "source": [
    "def find_num(sorted_list, num):\n",
    "    ### START CODE HERE ###\n",
    "    for i in range(0, len(sorted_list)):\n",
    "        print(i)\n",
    "        print(sorted_list[i])\n",
    "        if sorted_list[i] == num:\n",
    "            print(num)\n",
    "            return True\n",
    "        \n",
    "        else:\n",
    "            return False"
   ]
  },
  {
   "cell_type": "code",
   "execution_count": 34,
   "metadata": {},
   "outputs": [
    {
     "name": "stdout",
     "output_type": "stream",
     "text": [
      "0\n",
      "1\n"
     ]
    },
    {
     "data": {
      "text/plain": [
       "False"
      ]
     },
     "execution_count": 34,
     "metadata": {},
     "output_type": "execute_result"
    }
   ],
   "source": [
    "find_num([1,2,3,4],3)"
   ]
  },
  {
   "cell_type": "code",
   "execution_count": 40,
   "metadata": {},
   "outputs": [
    {
     "name": "stdout",
     "output_type": "stream",
     "text": [
      "1\n",
      "2\n",
      "3\n",
      "4\n"
     ]
    },
    {
     "data": {
      "text/plain": [
       "True"
      ]
     },
     "execution_count": 40,
     "metadata": {},
     "output_type": "execute_result"
    }
   ],
   "source": [
    "def find_num(sorted_list, num):\n",
    "    ### START CODE HERE ###\n",
    "    counter = 0 \n",
    "    for i in range(0, len(sorted_list)):\n",
    "        print(sorted_list[i])\n",
    "\n",
    "        if sorted_list[i] == num:\n",
    "            counter = 1\n",
    "    if counter == 1:\n",
    "        return True\n",
    "    else:\n",
    "        return False\n",
    "        \n",
    "find_num([1,2,3,4],1)        "
   ]
  },
  {
   "cell_type": "code",
   "execution_count": null,
   "metadata": {},
   "outputs": [],
   "source": []
  }
 ],
 "metadata": {
  "kernelspec": {
   "display_name": "Python 3",
   "language": "python",
   "name": "python3"
  },
  "language_info": {
   "codemirror_mode": {
    "name": "ipython",
    "version": 3
   },
   "file_extension": ".py",
   "mimetype": "text/x-python",
   "name": "python",
   "nbconvert_exporter": "python",
   "pygments_lexer": "ipython3",
   "version": "3.6.4"
  }
 },
 "nbformat": 4,
 "nbformat_minor": 2
}

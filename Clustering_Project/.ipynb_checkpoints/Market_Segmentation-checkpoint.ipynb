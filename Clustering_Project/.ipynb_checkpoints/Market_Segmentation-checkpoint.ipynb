{
 "cells": [
  {
   "cell_type": "markdown",
   "metadata": {},
   "source": [
    "##### Apply unsupervised learning technique to segment the market based on customer shopping habits\n",
    "\n",
    "##### The inpul file 'sales.csv' contains the sales details of a variety of tops from a number of retail clothing stores. The goal is to identify the patterns and segment the market based on the number of units sold in these sotres."
   ]
  },
  {
   "cell_type": "code",
   "execution_count": 34,
   "metadata": {},
   "outputs": [],
   "source": [
    "import csv\n",
    "import numpy as np \n",
    "import matplotlib.pyplot as plt\n",
    "from sklearn.cluster import MeanShift, estimate_bandwidth\n",
    "\n",
    "# Load data from input file\n",
    "\n",
    "input_file = 'sales.csv'\n",
    "file_reader = csv.reader(open(input_file, 'r'), delimiter = ',')\n",
    "\n",
    "X = []\n",
    "for count, row in enumerate(file_reader):\n",
    "    if not count:\n",
    "        names = row[1:]\n",
    "        continue\n",
    "    \n",
    "    X.append([float(x) for x in row[1:]])\n",
    "    \n",
    "# Convert to numpy array\n",
    "X = np.array(X)"
   ]
  },
  {
   "cell_type": "code",
   "execution_count": 35,
   "metadata": {},
   "outputs": [
    {
     "data": {
      "text/plain": [
       "MeanShift(bandwidth=26006.389359024277, bin_seeding=True, cluster_all=True,\n",
       "     min_bin_freq=1, n_jobs=1, seeds=None)"
      ]
     },
     "execution_count": 35,
     "metadata": {},
     "output_type": "execute_result"
    }
   ],
   "source": [
    "# Estimating the bandwidth of input data\n",
    "bandwidth = estimate_bandwidth(X, quantile = 0.8, n_samples = len(X))\n",
    "\n",
    "# Compute clustering with MeanShift\n",
    "meanshift_model = MeanShift(bandwidth, bin_seeding = True)\n",
    "meanshift_model.fit(X)"
   ]
  },
  {
   "cell_type": "code",
   "execution_count": 36,
   "metadata": {},
   "outputs": [],
   "source": [
    "# Extract labels and the centers of each cluster\n",
    "\n",
    "labels = meanshift_model.labels_\n",
    "cluster_centers = meanshift_model.cluster_centers_\n",
    "num_clusters = len(np.unique(labels))"
   ]
  },
  {
   "cell_type": "code",
   "execution_count": 44,
   "metadata": {},
   "outputs": [
    {
     "name": "stdout",
     "output_type": "stream",
     "text": [
      "\n",
      " Number of clusters in input data =  9\n",
      "\n",
      " Centers of clusters: \n",
      "Tsh\tTan\tHal\tTur\tTub\tSwe\n",
      "9823\t4637\t6539\t2607\t2228\t1239\n",
      "38589\t44199\t56158\t5030\t24674\t4125\n",
      "28333\t34263\t24065\t5575\t4229\t18076\n",
      "14987\t46397\t97393\t1127\t37315\t3235\n",
      "22617\t77873\t32543\t1005\t21035\t837\n",
      "104972\t29186\t19415\t16016\t5060\t9372\n",
      "38741\t40539\t20120\t35059\t255\t50710\n",
      "35314\t16745\t12775\t66900\t1298\t5613\n",
      "7852\t4939\t63081\t134\t40066\t1332\n"
     ]
    }
   ],
   "source": [
    "# Print the number of clusters and cluster centers\n",
    "\n",
    "print(\"\\n Number of clusters in input data = \", num_clusters)\n",
    "print(\"\\n Centers of clusters: \")\n",
    "print('\\t'.join([name[:3] for name in names]))\n",
    "\n",
    "for cluster_center in cluster_centers:\n",
    "    print('\\t'.join([str(int(x)) for x in cluster_center]))"
   ]
  },
  {
   "cell_type": "code",
   "execution_count": 45,
   "metadata": {},
   "outputs": [],
   "source": [
    "# Extract 2 features for visualization\n",
    "cluster_centers_2d = cluster_centers[:, 1:3]"
   ]
  },
  {
   "cell_type": "code",
   "execution_count": 50,
   "metadata": {},
   "outputs": [
    {
     "data": {
      "image/png": "[encoded data removed]",
      "text/plain": [
       "<matplotlib.figure.Figure at 0x1a1b251c88>"
      ]
     },
     "metadata": {},
     "output_type": "display_data"
    }
   ],
   "source": [
    "# Plot the cluster centers\n",
    "plt.figure()\n",
    "plt.scatter(cluster_centers_2d[:,0], cluster_centers_2d[:,1], s = 120, edgecolor = 'black', facecolor = 'none')\n",
    "\n",
    "offset = 0.25\n",
    "plt.xlim(cluster_centers_2d[:,0].min() - offset * cluster_centers_2d[:,0].ptp(), cluster_centers_2d[:,0].max() + offset * cluster_centers_2d[:,0].ptp())\n",
    "plt.ylim(cluster_centers_2d[:,1].min() - offset * cluster_centers_2d[:,1].ptp(), cluster_centers_2d[:,1].max() + offset * cluster_centers_2d[:,1].ptp())\n",
    "\n",
    "plt.title('Centers of 2D clusters')\n",
    "plt.show()"
   ]
  },
  {
   "cell_type": "code",
   "execution_count": null,
   "metadata": {},
   "outputs": [],
   "source": []
  }
 ],
 "metadata": {
  "kernelspec": {
   "display_name": "Python 3",
   "language": "python",
   "name": "python3"
  },
  "language_info": {
   "codemirror_mode": {
    "name": "ipython",
    "version": 3
   },
   "file_extension": ".py",
   "mimetype": "text/x-python",
   "name": "python",
   "nbconvert_exporter": "python",
   "pygments_lexer": "ipython3",
   "version": "3.6.4"
  }
 },
 "nbformat": 4,
 "nbformat_minor": 2
}

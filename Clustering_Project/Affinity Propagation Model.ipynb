{
 "cells": [
  {
   "cell_type": "markdown",
   "metadata": {},
   "source": [
    "##### It is a clustering algorithm that doesn't require us to specify the number of clusters beforehand. It finds out representatives of clusters called examplars, using a technique called message passing. It considers all training data points as potential exemplars. It then passes messages between the data points until it finds a set of exemplars.\n",
    "\n",
    "##### The message passing happens in 2 alternate steps, called 'responsibility' and 'availability'. Responsibility refers to the message sent from the members of the cluster to candidate exemplars, indicating how well suited the data point would be as a member of this exemplar's cluster. Availability refers to the message sent from the candidate exemplars to potential members of the cluster, indicating how well suited it would be as an exemplar. It keeps doing this until the algorithm converges on an optimal set of exemplars.\n",
    "\n",
    "##### There is also a parameter called 'preference' that controls the number of exemplars that will be found. If oyu choose a high value then it will cause the algorithm to find too many clusters. If you choose a low value then it will lead to a small number of clusters. A good value to choose would be the median similarity between the points."
   ]
  },
  {
   "cell_type": "code",
   "execution_count": 21,
   "metadata": {},
   "outputs": [],
   "source": [
    "import datetime\n",
    "import json\n",
    "\n",
    "import numpy as np\n",
    "import matplotlib.pyplot as plt\n",
    "from sklearn import covariance, cluster\n",
    "from matplotlib.finance import quotes_historical_yahoo_ochl as quotes_yahoo\n",
    "from yahoo_finance import Share\n",
    "\n",
    "# Input file containing company symbols\n",
    "input_file = 'company_symbol_mapping.json'\n",
    "\n",
    "# Load the company symbol map\n",
    "with open(input_file, 'r') as f:\n",
    "    company_symbols_map = json.loads(f.read())\n",
    "\n",
    "symbols, names = np.array(list(company_symbols_map.items())).T    "
   ]
  },
  {
   "cell_type": "code",
   "execution_count": 26,
   "metadata": {},
   "outputs": [],
   "source": [
    "# Load the historical stock quotes\n",
    "start_date = datetime.datetime(2003, 7, 3)\n",
    "end_date = datetime.datetime(2007, 5, 4)\n",
    "\n",
    "quotes = [quotes_yahoo(symbol, start_date, end_date, asobject=True) \n",
    "                for symbol in symbols]"
   ]
  },
  {
   "cell_type": "markdown",
   "metadata": {},
   "source": [
    "##### the library  (i) from matplotlib.finance import quotes_historical_yahoo_ochl and (ii) from yahoo_finance are not not maintained anymore"
   ]
  },
  {
   "cell_type": "code",
   "execution_count": null,
   "metadata": {},
   "outputs": [],
   "source": []
  }
 ],
 "metadata": {
  "kernelspec": {
   "display_name": "Python 3",
   "language": "python",
   "name": "python3"
  },
  "language_info": {
   "codemirror_mode": {
    "name": "ipython",
    "version": 3
   },
   "file_extension": ".py",
   "mimetype": "text/x-python",
   "name": "python",
   "nbconvert_exporter": "python",
   "pygments_lexer": "ipython3",
   "version": "3.6.4"
  }
 },
 "nbformat": 4,
 "nbformat_minor": 2
}

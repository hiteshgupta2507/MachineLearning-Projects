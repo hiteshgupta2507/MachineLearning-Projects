{
 "cells": [
  {
   "cell_type": "markdown",
   "metadata": {},
   "source": [
    "The dataset is formatted in a way where each row has  comment_ID, Author, Date, and content followed by class. Class is labeled as '1' for spam and '0' for not spam"
   ]
  },
  {
   "cell_type": "code",
   "execution_count": 367,
   "metadata": {},
   "outputs": [
    {
     "name": "stdout",
     "output_type": "stream",
     "text": [
      "List of all the files: \n",
      " ['YouTube-Spam-Collection-v1/Youtube03-LMFAO.csv', 'YouTube-Spam-Collection-v1/Youtube04-Eminem.csv', 'YouTube-Spam-Collection-v1/Youtube05-Shakira.csv', 'YouTube-Spam-Collection-v1/Youtube02-KatyPerry.csv', 'YouTube-Spam-Collection-v1/Youtube01-Psy.csv']\n",
      "\n",
      "\n",
      "Sample of our data\n"
     ]
    },
    {
     "data": {
      "text/html": [
       "<div>\n",
       "<style scoped>\n",
       "    .dataframe tbody tr th:only-of-type {\n",
       "        vertical-align: middle;\n",
       "    }\n",
       "\n",
       "    .dataframe tbody tr th {\n",
       "        vertical-align: top;\n",
       "    }\n",
       "\n",
       "    .dataframe thead th {\n",
       "        text-align: right;\n",
       "    }\n",
       "</style>\n",
       "<table border=\"1\" class=\"dataframe\">\n",
       "  <thead>\n",
       "    <tr style=\"text-align: right;\">\n",
       "      <th></th>\n",
       "      <th>COMMENT_ID</th>\n",
       "      <th>AUTHOR</th>\n",
       "      <th>DATE</th>\n",
       "      <th>CONTENT</th>\n",
       "      <th>CLASS</th>\n",
       "    </tr>\n",
       "  </thead>\n",
       "  <tbody>\n",
       "    <tr>\n",
       "      <th>345</th>\n",
       "      <td>z13th1q4yzihf1bll23qxzpjeujterydj</td>\n",
       "      <td>Carmen Racasanu</td>\n",
       "      <td>2014-11-14T13:27:52</td>\n",
       "      <td>How can this have 2 billion views when there's...</td>\n",
       "      <td>0</td>\n",
       "    </tr>\n",
       "    <tr>\n",
       "      <th>346</th>\n",
       "      <td>z13fcn1wfpb5e51xe04chdxakpzgchyaxzo0k</td>\n",
       "      <td>diego mogrovejo</td>\n",
       "      <td>2014-11-14T13:28:08</td>\n",
       "      <td>I don't now why I'm watching this in 2014﻿</td>\n",
       "      <td>0</td>\n",
       "    </tr>\n",
       "    <tr>\n",
       "      <th>347</th>\n",
       "      <td>z130zd5b3titudkoe04ccbeohojxuzppvbg</td>\n",
       "      <td>BlueYetiPlayz -Call Of Duty and More</td>\n",
       "      <td>2015-05-23T13:04:32</td>\n",
       "      <td>subscribe to me for call of duty vids and give...</td>\n",
       "      <td>1</td>\n",
       "    </tr>\n",
       "    <tr>\n",
       "      <th>348</th>\n",
       "      <td>z12he50arvrkivl5u04cctawgxzkjfsjcc4</td>\n",
       "      <td>Photo Editor</td>\n",
       "      <td>2015-06-05T14:14:48</td>\n",
       "      <td>hi guys please my android photo editor downloa...</td>\n",
       "      <td>1</td>\n",
       "    </tr>\n",
       "    <tr>\n",
       "      <th>349</th>\n",
       "      <td>z13vhvu54u3ewpp5h04ccb4zuoardrmjlyk0k</td>\n",
       "      <td>Ray Benich</td>\n",
       "      <td>2015-06-05T18:05:16</td>\n",
       "      <td>The first billion viewed this because they tho...</td>\n",
       "      <td>0</td>\n",
       "    </tr>\n",
       "  </tbody>\n",
       "</table>\n",
       "</div>"
      ],
      "text/plain": [
       "                                COMMENT_ID  \\\n",
       "345      z13th1q4yzihf1bll23qxzpjeujterydj   \n",
       "346  z13fcn1wfpb5e51xe04chdxakpzgchyaxzo0k   \n",
       "347    z130zd5b3titudkoe04ccbeohojxuzppvbg   \n",
       "348    z12he50arvrkivl5u04cctawgxzkjfsjcc4   \n",
       "349  z13vhvu54u3ewpp5h04ccb4zuoardrmjlyk0k   \n",
       "\n",
       "                                   AUTHOR                 DATE  \\\n",
       "345                       Carmen Racasanu  2014-11-14T13:27:52   \n",
       "346                       diego mogrovejo  2014-11-14T13:28:08   \n",
       "347  BlueYetiPlayz -Call Of Duty and More  2015-05-23T13:04:32   \n",
       "348                          Photo Editor  2015-06-05T14:14:48   \n",
       "349                            Ray Benich  2015-06-05T18:05:16   \n",
       "\n",
       "                                               CONTENT  CLASS  \n",
       "345  How can this have 2 billion views when there's...      0  \n",
       "346         I don't now why I'm watching this in 2014﻿      0  \n",
       "347  subscribe to me for call of duty vids and give...      1  \n",
       "348  hi guys please my android photo editor downloa...      1  \n",
       "349  The first billion viewed this because they tho...      0  "
      ]
     },
     "execution_count": 367,
     "metadata": {},
     "output_type": "execute_result"
    }
   ],
   "source": [
    "'''Con at all the dataset and load the dataset using pandas and show some sample data'''\n",
    "\n",
    "import pandas as pd \n",
    "import numpy as np\n",
    "import glob\n",
    "\n",
    "path = 'YouTube-Spam-Collection-v1'\n",
    "allFiles = glob.glob(path + '/*.csv')\n",
    "\n",
    "print(\"List of all the files: \\n\", allFiles)\n",
    "\n",
    "list =[]\n",
    "for files_ in allFiles:\n",
    "    df = pd.read_csv(files_)\n",
    "    list.append(df)\n",
    "\n",
    "data = pd.concat(list)    \n",
    "#data = pd.read_csv('YouTube-Spam-Collection-v1/Youtube01-Psy.csv')\n",
    "\n",
    "print(\"\\n\\nSample of our data\")\n",
    "data.tail()\n",
    "#data.to_csv('test.csv', encoding='utf-8')\n"
   ]
  },
  {
   "cell_type": "code",
   "execution_count": 368,
   "metadata": {},
   "outputs": [
    {
     "name": "stdout",
     "output_type": "stream",
     "text": [
      "Total number of rows in the dataset:  1956\n",
      "No of content which are classified as spam:  1005\n",
      "No of content which are classified as not spam:  951\n"
     ]
    }
   ],
   "source": [
    "print(\"Total number of rows in the dataset: \", len(data))\n",
    "print(\"No of content which are classified as spam: \", len(data[data['CLASS'] == 1]))\n",
    "print(\"No of content which are classified as not spam: \", len(data[data['CLASS'] == 0]))"
   ]
  },
  {
   "cell_type": "markdown",
   "metadata": {},
   "source": [
    "### Bag of Words\n",
    "\n",
    "#### Data Preprocessing\n",
    "\n",
    "We will begin data preprocessing by implementing CountVectorizer() method that entailed cleaning our data first. This cleaning involved converting all of our data to lower case and removing all punctuation marks. CountVectorizer() has certain parameter that takes care of processing for e.g. converting to lowercase, ignoting punctuations, etc.\n",
    "\n",
    "* `lowercase = True`\n",
    "    \n",
    "    The `lowercase` parameter has a default value of `True` which converts all of our text to its lower case form.\n",
    "\n",
    "\n",
    "* `token_pattern = (?u)\\\\b\\\\w\\\\w+\\\\b`\n",
    "    \n",
    "    The `token_pattern` parameter has a default regular expression value of `(?u)\\\\b\\\\w\\\\w+\\\\b` which ignores all punctuation marks and treats them as delimiters, while accepting alphanumeric strings of length greater than or equal to 2, as individual tokens or words.\n",
    "\n",
    "\n",
    "* `stop_words`\n",
    "\n",
    "    The `stop_words` parameter is set to `english` which will remove all words from our document set that match a list of English stop words which is defined in scikit-learn. "
   ]
  },
  {
   "cell_type": "code",
   "execution_count": 95,
   "metadata": {},
   "outputs": [],
   "source": [
    "from sklearn.feature_extraction.text import CountVectorizer\n",
    "count_vector = CountVectorizer(stop_words = 'english')"
   ]
  },
  {
   "cell_type": "code",
   "execution_count": 96,
   "metadata": {},
   "outputs": [
    {
     "data": {
      "text/plain": [
       "CountVectorizer(analyzer='word', binary=False, decode_error='strict',\n",
       "        dtype=<class 'numpy.int64'>, encoding='utf-8', input='content',\n",
       "        lowercase=True, max_df=1.0, max_features=None, min_df=1,\n",
       "        ngram_range=(1, 1), preprocessor=None, stop_words='english',\n",
       "        strip_accents=None, token_pattern='(?u)\\\\b\\\\w\\\\w+\\\\b',\n",
       "        tokenizer=None, vocabulary=None)"
      ]
     },
     "execution_count": 96,
     "metadata": {},
     "output_type": "execute_result"
    }
   ],
   "source": [
    "count_vector"
   ]
  },
  {
   "cell_type": "code",
   "execution_count": 386,
   "metadata": {},
   "outputs": [
    {
     "data": {
      "text/html": [
       "<div>\n",
       "<style scoped>\n",
       "    .dataframe tbody tr th:only-of-type {\n",
       "        vertical-align: middle;\n",
       "    }\n",
       "\n",
       "    .dataframe tbody tr th {\n",
       "        vertical-align: top;\n",
       "    }\n",
       "\n",
       "    .dataframe thead th {\n",
       "        text-align: right;\n",
       "    }\n",
       "</style>\n",
       "<table border=\"1\" class=\"dataframe\">\n",
       "  <thead>\n",
       "    <tr style=\"text-align: right;\">\n",
       "      <th></th>\n",
       "      <th>00</th>\n",
       "      <th>000</th>\n",
       "      <th>002</th>\n",
       "      <th>018</th>\n",
       "      <th>02</th>\n",
       "      <th>034</th>\n",
       "      <th>04</th>\n",
       "      <th>047000</th>\n",
       "      <th>05</th>\n",
       "      <th>053012</th>\n",
       "      <th>...</th>\n",
       "      <th>ｃｏｍｍｅｎｔ</th>\n",
       "      <th>ｄａｍｎ</th>\n",
       "      <th>ｅｂａｙ</th>\n",
       "      <th>ｆａｎｃy</th>\n",
       "      <th>ｈｔｔｐ</th>\n",
       "      <th>ｉｓ</th>\n",
       "      <th>ｓｈｏｅｃｏｌｌｅｃｔｏｒ314</th>\n",
       "      <th>ｔｈｉｓ</th>\n",
       "      <th>ｕｓｒ</th>\n",
       "      <th>ｗｗｗ</th>\n",
       "    </tr>\n",
       "  </thead>\n",
       "  <tbody>\n",
       "    <tr>\n",
       "      <th>1951</th>\n",
       "      <td>0</td>\n",
       "      <td>0</td>\n",
       "      <td>0</td>\n",
       "      <td>0</td>\n",
       "      <td>0</td>\n",
       "      <td>0</td>\n",
       "      <td>0</td>\n",
       "      <td>0</td>\n",
       "      <td>0</td>\n",
       "      <td>0</td>\n",
       "      <td>...</td>\n",
       "      <td>0</td>\n",
       "      <td>0</td>\n",
       "      <td>0</td>\n",
       "      <td>0</td>\n",
       "      <td>0</td>\n",
       "      <td>0</td>\n",
       "      <td>0</td>\n",
       "      <td>0</td>\n",
       "      <td>0</td>\n",
       "      <td>0</td>\n",
       "    </tr>\n",
       "    <tr>\n",
       "      <th>1952</th>\n",
       "      <td>0</td>\n",
       "      <td>0</td>\n",
       "      <td>0</td>\n",
       "      <td>0</td>\n",
       "      <td>0</td>\n",
       "      <td>0</td>\n",
       "      <td>0</td>\n",
       "      <td>0</td>\n",
       "      <td>0</td>\n",
       "      <td>0</td>\n",
       "      <td>...</td>\n",
       "      <td>0</td>\n",
       "      <td>0</td>\n",
       "      <td>0</td>\n",
       "      <td>0</td>\n",
       "      <td>0</td>\n",
       "      <td>0</td>\n",
       "      <td>0</td>\n",
       "      <td>0</td>\n",
       "      <td>0</td>\n",
       "      <td>0</td>\n",
       "    </tr>\n",
       "    <tr>\n",
       "      <th>1953</th>\n",
       "      <td>0</td>\n",
       "      <td>0</td>\n",
       "      <td>0</td>\n",
       "      <td>0</td>\n",
       "      <td>0</td>\n",
       "      <td>0</td>\n",
       "      <td>0</td>\n",
       "      <td>0</td>\n",
       "      <td>0</td>\n",
       "      <td>0</td>\n",
       "      <td>...</td>\n",
       "      <td>0</td>\n",
       "      <td>0</td>\n",
       "      <td>0</td>\n",
       "      <td>0</td>\n",
       "      <td>0</td>\n",
       "      <td>0</td>\n",
       "      <td>0</td>\n",
       "      <td>0</td>\n",
       "      <td>0</td>\n",
       "      <td>0</td>\n",
       "    </tr>\n",
       "    <tr>\n",
       "      <th>1954</th>\n",
       "      <td>0</td>\n",
       "      <td>0</td>\n",
       "      <td>0</td>\n",
       "      <td>0</td>\n",
       "      <td>0</td>\n",
       "      <td>0</td>\n",
       "      <td>0</td>\n",
       "      <td>0</td>\n",
       "      <td>0</td>\n",
       "      <td>0</td>\n",
       "      <td>...</td>\n",
       "      <td>0</td>\n",
       "      <td>0</td>\n",
       "      <td>0</td>\n",
       "      <td>0</td>\n",
       "      <td>0</td>\n",
       "      <td>0</td>\n",
       "      <td>0</td>\n",
       "      <td>0</td>\n",
       "      <td>0</td>\n",
       "      <td>0</td>\n",
       "    </tr>\n",
       "    <tr>\n",
       "      <th>1955</th>\n",
       "      <td>0</td>\n",
       "      <td>0</td>\n",
       "      <td>0</td>\n",
       "      <td>0</td>\n",
       "      <td>0</td>\n",
       "      <td>0</td>\n",
       "      <td>0</td>\n",
       "      <td>0</td>\n",
       "      <td>0</td>\n",
       "      <td>0</td>\n",
       "      <td>...</td>\n",
       "      <td>0</td>\n",
       "      <td>0</td>\n",
       "      <td>0</td>\n",
       "      <td>0</td>\n",
       "      <td>0</td>\n",
       "      <td>0</td>\n",
       "      <td>0</td>\n",
       "      <td>0</td>\n",
       "      <td>0</td>\n",
       "      <td>0</td>\n",
       "    </tr>\n",
       "  </tbody>\n",
       "</table>\n",
       "<p>5 rows × 4229 columns</p>\n",
       "</div>"
      ],
      "text/plain": [
       "      00  000  002  018  02  034  04  047000  05  053012 ...   ｃｏｍｍｅｎｔ  ｄａｍｎ  \\\n",
       "1951   0    0    0    0   0    0   0       0   0       0 ...         0     0   \n",
       "1952   0    0    0    0   0    0   0       0   0       0 ...         0     0   \n",
       "1953   0    0    0    0   0    0   0       0   0       0 ...         0     0   \n",
       "1954   0    0    0    0   0    0   0       0   0       0 ...         0     0   \n",
       "1955   0    0    0    0   0    0   0       0   0       0 ...         0     0   \n",
       "\n",
       "      ｅｂａｙ  ｆａｎｃy  ｈｔｔｐ  ｉｓ  ｓｈｏｅｃｏｌｌｅｃｔｏｒ314  ｔｈｉｓ  ｕｓｒ  ｗｗｗ  \n",
       "1951     0      0     0   0                 0     0    0    0  \n",
       "1952     0      0     0   0                 0     0    0    0  \n",
       "1953     0      0     0   0                 0     0    0    0  \n",
       "1954     0      0     0   0                 0     0    0    0  \n",
       "1955     0      0     0   0                 0     0    0    0  \n",
       "\n",
       "[5 rows x 4229 columns]"
      ]
     },
     "execution_count": 386,
     "metadata": {},
     "output_type": "execute_result"
    }
   ],
   "source": [
    "# Let's convert the dataset to array after tranforming the dataset to see how the data look like\n",
    "\n",
    "doc_array = count_vector.transform(data['CONTENT']).toarray()\n",
    "#doc_array\n",
    "frequency_matrix = pd.DataFrame(doc_array, \n",
    "                                columns = count_vector.get_feature_names())\n",
    "\n",
    "frequency_matrix.tail()\n",
    "#frequency_matrix.iloc[1900:, 4013:]\n",
    "#frequency_matrix.to_csv('example.csv')"
   ]
  },
  {
   "cell_type": "markdown",
   "metadata": {},
   "source": [
    "#### Testing and Training our dataset\n",
    "\n",
    "Split the dataset into a training and testing set by using the train_test_split method in sklearn. Split the data\n",
    "using the following variables:\n",
    "* `X_train` is our training data for the 'CONTENT' column.\n",
    "* `y_train` is our training data for the 'CLASS' column\n",
    "* `X_test` is our testing data for the 'CONTENT' column.\n",
    "* `y_test` is our testing data for the 'CLASS' column\n",
    "Print out the number of rows we have in each our training and testing data."
   ]
  },
  {
   "cell_type": "code",
   "execution_count": 100,
   "metadata": {},
   "outputs": [
    {
     "name": "stdout",
     "output_type": "stream",
     "text": [
      "No of rows in the total dataset: 1956\n",
      "No of rows in the training dataset: 1564\n",
      "No of rows in the testing dataset: 392\n"
     ]
    }
   ],
   "source": [
    "# split into training and testing sets\n",
    "\n",
    "from sklearn.model_selection import train_test_split\n",
    "\n",
    "X = data['CONTENT']\n",
    "y = data['CLASS']\n",
    "X_train, X_test, y_train, y_test = train_test_split(X, y, \n",
    "                                                    test_size = 0.20, random_state = 1,\n",
    "                                                   )\n",
    "\n",
    "print(\"No of rows in the total dataset: {}\".format(len(data)))\n",
    "print(\"No of rows in the training dataset: {}\".format(len(X_train)))\n",
    "print(\"No of rows in the testing dataset: {}\".format(len(X_test)))"
   ]
  },
  {
   "cell_type": "markdown",
   "metadata": {},
   "source": [
    "#### Applying BoW processing to our dataset\n",
    "\n",
    "We have split the dataset into training and testing set. We will perform the following 2 steps:\n",
    "\n",
    "* Firstly, we will fit and transform our training set (`X_train`) using `CountVectorizer()` to a matrix form.\n",
    "* Secondly, we will transform our test set (`X_test`) that will return a matrix\n",
    "\n",
    "Note that `X_train` is our training set for the `CONTENT` column from the dataset and `X_test` is our testing set for the `CONTENT` column from the datset that we will be using later for prediction."
   ]
  },
  {
   "cell_type": "code",
   "execution_count": 98,
   "metadata": {},
   "outputs": [],
   "source": [
    "# Initialize CountVectorizer.\n",
    "count_vector = CountVectorizer(stop_words = 'english')\n",
    "\n",
    "# Fit and transform the training set and store the result in training_data. \n",
    "training_data = count_vector.fit_transform(X_train)\n",
    "\n",
    "# Tranform (no fit) the testing data and store in testing_data.\n",
    "testing_data = count_vector.transform(X_test)"
   ]
  },
  {
   "cell_type": "code",
   "execution_count": 365,
   "metadata": {},
   "outputs": [
    {
     "name": "stdout",
     "output_type": "stream",
     "text": [
      "Accuracy Score = 93.11%\n"
     ]
    }
   ],
   "source": [
    "# Let's begin with just training the model with RandomForestClassifier. We will use hyperparameter and different model \n",
    "# at a later stage to identify the best model.\n",
    "\n",
    "from sklearn.ensemble import RandomForestClassifier\n",
    "\n",
    "clf = RandomForestClassifier()\n",
    "\n",
    "clf.fit(training_data, y_train)\n",
    "#X_test_predict = clf.predict(X_test)\n",
    "\n",
    "print(\"Accuracy Score = {0:.2f}%\".format(clf.score(testing_data, y_test) * 100)) # clf.score performs predict(X) by default\n"
   ]
  },
  {
   "cell_type": "markdown",
   "metadata": {},
   "source": [
    "#### Since the accuracy is based on just one split (using train_test_split), we need to be sure that the accuracy is high across multiple splits, so we will use cross_val_score with 10 different splits. \n",
    "\n",
    "#### Since cross_val_Score takes the entire dataset i.e. X and y values directly (not after splitting as corss_val_score takes care of splitting the data) , we will have to perform fit_tranform on X using CountVectorizer."
   ]
  },
  {
   "cell_type": "code",
   "execution_count": 364,
   "metadata": {},
   "outputs": [
    {
     "name": "stdout",
     "output_type": "stream",
     "text": [
      "Mean accuracy score: 93.30% (+/- 0.05)\n"
     ]
    }
   ],
   "source": [
    "# Fit and transform the X and store the result in X_training_data. \n",
    "X_full_data = count_vector.fit_transform(X)\n",
    "\n",
    "from sklearn.model_selection import cross_val_score\n",
    "\n",
    "predict_score = cross_val_score(clf, X_full_data, y, cv = 10)\n",
    "\n",
    "# show average score +/- two standard deviations. \n",
    "print(\"Mean accuracy score: %0.2f%s (+/- %0.2f)\" %(predict_score.mean() * 100, \"%\", predict_score.std() * 2))"
   ]
  },
  {
   "cell_type": "markdown",
   "metadata": {},
   "source": [
    "#### Let's train different models on our dataset and pick the best one for grid search paramaterization.\n",
    "\n",
    "* DeciisionTreeClassifer\n",
    "* Multinomial Naive Bayes\n",
    "* Support Vector Machine\n",
    "* AdaBoost\n",
    "* RandomForest Classifier\n",
    "* Neural Network"
   ]
  },
  {
   "cell_type": "code",
   "execution_count": 253,
   "metadata": {},
   "outputs": [],
   "source": [
    "# Define a function that will take parameter as Learner, training, and testing dataset to print accuracy \n",
    "# using cross_val_score for each model\n",
    "\n",
    "def train_predict(learner, training_data, y):\n",
    "    '''\n",
    "    learner: the learning algorithm to be trained\n",
    "    training_data: the data trnsformed using fit_tranform from CountVectorizer\n",
    "    y: the classification label\n",
    "    '''\n",
    "\n",
    "    cv = 10\n",
    "    learner = learner\n",
    "    \n",
    "    scores = cross_val_score(learner, training_data, y, cv = cv, scoring = \"accuracy\")\n",
    "    \n",
    "    print(\"Model's mean accuracy using %s is: %0.2f%s (+/- %0.2f)\" %(learner.__class__.__name__, scores.mean() * 100, \"%\", scores.std() * 2))\n",
    "    \n",
    "    return (scores.mean())\n",
    "    \n"
   ]
  },
  {
   "cell_type": "code",
   "execution_count": 319,
   "metadata": {},
   "outputs": [
    {
     "name": "stdout",
     "output_type": "stream",
     "text": [
      "Model's mean accuracy using RandomForestClassifier is: 93.66% (+/- 0.05)\n",
      "Model's mean accuracy using DecisionTreeClassifier is: 94.37% (+/- 0.04)\n",
      "Model's mean accuracy using SVC is: 51.38% (+/- 0.00)\n",
      "Model's mean accuracy using AdaBoostClassifier is: 93.81% (+/- 0.05)\n",
      "Model's mean accuracy using MultinomialNB is: 90.59% (+/- 0.06)\n",
      "Model's mean accuracy using MLPClassifier is: 93.96% (+/- 0.03)\n"
     ]
    }
   ],
   "source": [
    "# Let's initialize different model learning algorithm and evaluate their mean accuracy score\n",
    "\n",
    "from sklearn.ensemble import RandomForestClassifier\n",
    "from sklearn.tree import DecisionTreeClassifier\n",
    "from sklearn.svm import SVC\n",
    "from sklearn.ensemble import AdaBoostClassifier\n",
    "from sklearn.naive_bayes import MultinomialNB\n",
    "from sklearn.neural_network import MLPClassifier\n",
    "\n",
    "clf_A = RandomForestClassifier(random_state = 42)\n",
    "clf_B = DecisionTreeClassifier(random_state = 43)\n",
    "clf_C = SVC(random_state = 44)\n",
    "clf_D = AdaBoostClassifier(random_state = 45)\n",
    "clf_E = MultinomialNB()\n",
    "clf_F = MLPClassifier(random_state = 46)\n",
    "\n",
    "#col_name = [clf_A.__class__.__name__, clf_B.__class__.__name__, clf_C.__class__.__name__, clf_D.__class__.__name__, \n",
    "#           clf_E.__class__.__name__, clf_F.__class__.__name__]\n",
    "results = []\n",
    "for i, clf in enumerate([clf_A, clf_B, clf_C, clf_D, clf_E, clf_F]):\n",
    "    results.append(train_predict(clf, X_full_data, y))\n"
   ]
  },
  {
   "cell_type": "code",
   "execution_count": 330,
   "metadata": {},
   "outputs": [
    {
     "name": "stdout",
     "output_type": "stream",
     "text": [
      "Accuracy Scores are as follow: \n",
      "\n",
      "RandomForestClassifier : 93.66 %\n",
      "DecisionTreeClassifier : 94.37 %\n",
      "SVC : 51.38 %\n",
      "AdaBoostClassifier : 93.81 %\n",
      "MultinomialNB : 90.59 %\n",
      "MLPClassifier : 93.96 %\n"
     ]
    },
    {
     "data": {
      "image/png": "[encoded data removed]",
      "text/plain": [
       "<matplotlib.figure.Figure at 0x1a16040d68>"
      ]
     },
     "metadata": {},
     "output_type": "display_data"
    }
   ],
   "source": [
    "# Let's plot the accuracy score for all the classifiers above.\n",
    "import matplotlib.pyplot as plt\n",
    "%matplotlib inline\n",
    "\n",
    "fig = plt.figure()\n",
    "col_name = [clf_A.__class__.__name__, clf_B.__class__.__name__, clf_C.__class__.__name__, clf_D.__class__.__name__, \n",
    "           clf_E.__class__.__name__, clf_F.__class__.__name__]\n",
    "data = pd.Series(results, index = col_name)\n",
    "\n",
    "plt.xlabel('Accuracy Score')\n",
    "plt.suptitle('Accuracy Score of different classifers')\n",
    "data.plot(kind = 'barh', alpha = 0.7)\n",
    "\n",
    "print(\"Accuracy Scores are as follow: \\n\")\n",
    "for i in range(len(results)):\n",
    "    print(col_name[i],\":\", np.round(results[i] * 100, 2), \"%\")"
   ]
  },
  {
   "cell_type": "markdown",
   "metadata": {},
   "source": [
    "### Validate the Model\n",
    "\n",
    "#### Validation Curve Plot\n",
    "\n",
    "Since DecisionTreeClassifier gives the best accuracy we will use DecisionTreeClassifier for validation. To validate whether the model is underfitting / just right / overfitting the data we will plot validation curve for DecisionTreeClassifier by varying `max_depth` parameter. We can see that both the training score as well validation score keeps increasing with the increase in our parameter suggesting that the model is neither underfit nor overfit."
   ]
  },
  {
   "cell_type": "code",
   "execution_count": 312,
   "metadata": {},
   "outputs": [
    {
     "data": {
      "image/png": "[encoded data removed]",
      "text/plain": [
       "<matplotlib.figure.Figure at 0x1a17c61710>"
      ]
     },
     "metadata": {},
     "output_type": "display_data"
    }
   ],
   "source": [
    "from sklearn.model_selection import validation_curve\n",
    "#param_range = np.logspace(-7, 3, 3)\n",
    "param_range = np.linspace(10, 100, num=10)\n",
    "train_scores, test_scores = validation_curve(clf_A, X_full_data, y, \"max_depth\", param_range=param_range,\n",
    "                                             cv=10, scoring=\"accuracy\", n_jobs=1)\n",
    "\n",
    "train_scores_mean = np.mean(train_scores, axis=1)\n",
    "train_scores_std = np.std(train_scores, axis=1)\n",
    "test_scores_mean = np.mean(test_scores, axis=1)\n",
    "test_scores_std = np.std(test_scores, axis=1)\n",
    "\n",
    "plt.title(\"Validation Curve with DecisionTree\")\n",
    "plt.xlabel(\"max_depth\")\n",
    "plt.ylabel(\"Score\")\n",
    "plt.ylim(0.0, 1.1)\n",
    "plt.xlim(param_range[0], param_range[len(param_range)-1])\n",
    "lw = 2\n",
    "plt.plot(param_range, train_scores_mean, label=\"Training score\",\n",
    "             color=\"darkorange\", lw=lw)\n",
    "#plt.fill_between(param_range, train_scores_mean - train_scores_std,\n",
    "#                 train_scores_mean + train_scores_std, alpha=0.2,\n",
    "#                 color=\"darkorange\", lw=lw)\n",
    "plt.plot(param_range, test_scores_mean, label=\"Cross-validation score\",\n",
    "             color=\"navy\", lw=lw)\n",
    "#plt.fill_between(param_range, test_scores_mean - test_scores_std,\n",
    "#                 test_scores_mean + test_scores_std, alpha=0.2,\n",
    "#                 color=\"navy\", lw=lw)\n",
    "plt.legend(loc=\"best\")\n",
    "plt.show()"
   ]
  },
  {
   "cell_type": "markdown",
   "metadata": {},
   "source": [
    "#### Learning Curve\n",
    "\n",
    "We will also plot the learning curve score to see the impact of changing the training dataset on the training score and cross validation score. We can see that with the increase in training data size both training score and validation score keeps increasing. This suggests that our model would have benefitted more by increasing the dataset."
   ]
  },
  {
   "cell_type": "code",
   "execution_count": 404,
   "metadata": {},
   "outputs": [
    {
     "data": {
      "image/png": "[encoded data removed]",
      "text/plain": [
       "<matplotlib.figure.Figure at 0x1a1568b860>"
      ]
     },
     "metadata": {},
     "output_type": "display_data"
    }
   ],
   "source": [
    "#plt.figure()\n",
    "plt.title(\"Learning Curves (Decision Tree)\")\n",
    "plt.xlabel(\"Training examples\")\n",
    "plt.ylabel(\"Score\")\n",
    "train_sizes, train_scores, test_scores = learning_curve(clf_A, X_full_data, y, cv=10, \n",
    "                                                        n_jobs=1, train_sizes=np.linspace(0.1, 1.0,5))\n",
    "train_scores_mean = np.mean(train_scores, axis=1)\n",
    "train_scores_std = np.std(train_scores, axis=1)\n",
    "test_scores_mean = np.mean(test_scores, axis=1)\n",
    "test_scores_std = np.std(test_scores, axis=1)\n",
    "\n",
    "plt.plot(train_sizes, train_scores_mean, 'o-', color=\"r\",\n",
    "         label=\"Training score\")\n",
    "plt.plot(train_sizes, test_scores_mean, 'o-', color=\"g\",\n",
    "         label=\"Cross-validation score\")\n",
    "\n",
    "plt.legend(loc=\"best\")\n",
    "plt.show()\n"
   ]
  },
  {
   "cell_type": "code",
   "execution_count": 262,
   "metadata": {
    "scrolled": true
   },
   "outputs": [
    {
     "name": "stdout",
     "output_type": "stream",
     "text": [
      "DecisionTreeClassifier(class_weight=None, criterion='gini', max_depth=None,\n",
      "            max_features=None, max_leaf_nodes=None,\n",
      "            min_impurity_decrease=0.0, min_impurity_split=None,\n",
      "            min_samples_leaf=1, min_samples_split=2,\n",
      "            min_weight_fraction_leaf=0.0, presort=False, random_state=43,\n",
      "            splitter='best')\n"
     ]
    }
   ],
   "source": [
    "print(clf_B)"
   ]
  },
  {
   "cell_type": "code",
   "execution_count": 395,
   "metadata": {},
   "outputs": [
    {
     "name": "stdout",
     "output_type": "stream",
     "text": [
      "Model's mean accuracy using DecisionTreeClassifier is: 93.81% (+/- 0.04)\n"
     ]
    }
   ],
   "source": [
    "# Since DecisionTreeClassifier gives the best accuracy, we will use it in gridsearch for parameterization. \n",
    "\n",
    "from sklearn.model_selection import GridSearchCV\n",
    "from sklearn.metrics import make_scorer\n",
    "from sklearn.metrics import accuracy_score\n",
    "\n",
    "parameters = {'max_depth': [10, 20, 30, 50, 70, None], 'min_samples_leaf': [1, 5, 10, 15]}\n",
    "scorer = make_scorer(accuracy_score)\n",
    "\n",
    "# clf_grid = [clf_A, clf_B]\n",
    "grid_obj = GridSearchCV(clf_B, param_grid = parameters, scoring = scorer)\n",
    "grid_fit = grid_obj.fit(X_full_data, y)\n",
    "\n",
    "\n",
    "scores = cross_val_score(grid_obj.best_estimator_, X_full_data, y, cv = 10, scoring = \"accuracy\")\n",
    "\n",
    "print(\"Model's mean accuracy using %s is: %0.2f%s (+/- %0.2f)\" %(grid_obj.best_estimator_.__class__.__name__, scores.mean() * 100, \"%\", scores.std() * 2))"
   ]
  },
  {
   "cell_type": "code",
   "execution_count": 396,
   "metadata": {},
   "outputs": [
    {
     "name": "stdout",
     "output_type": "stream",
     "text": [
      "DecisionTreeClassifier(class_weight=None, criterion='gini', max_depth=50,\n",
      "            max_features=None, max_leaf_nodes=None,\n",
      "            min_impurity_decrease=0.0, min_impurity_split=None,\n",
      "            min_samples_leaf=1, min_samples_split=2,\n",
      "            min_weight_fraction_leaf=0.0, presort=False, random_state=43,\n",
      "            splitter='best')\n"
     ]
    }
   ],
   "source": [
    "print(grid_obj.best_estimator_)"
   ]
  },
  {
   "cell_type": "markdown",
   "metadata": {},
   "source": [
    "#### Refine the model:\n",
    "\n",
    "Let say that if we start getting new comments we will have to run the comment through CountVecotrizer followed by the classifier (in the case above DecisionTreeClassifier). Therefore we will combine both the steps to avoid missing any information while modeling. This can be done by using a feature provided by scikit-learn called a `Pipeline` .\n",
    "\n",
    "Some of the benefits for using Pipeline are:\n",
    "##### Convenience and encapsulation\n",
    "We only have to call `fit` and `predict` once on the data to fit a whole sequence of estimators.\n",
    "##### Joint parameter selection\n",
    "We can grid search over parameters of all estimators in the pipeline at once.\n",
    "##### Safety\n",
    "Pipelines help avoid leaking statistics from the test data into the trained model in cross-validation, by ensuring that the same samples are used to train the transformers and predictors.\n"
   ]
  },
  {
   "cell_type": "code",
   "execution_count": 243,
   "metadata": {},
   "outputs": [
    {
     "name": "stdout",
     "output_type": "stream",
     "text": [
      "Pipeline(memory=None,\n",
      "     steps=[('count_vector', CountVectorizer(analyzer='word', binary=False, decode_error='strict',\n",
      "        dtype=<class 'numpy.int64'>, encoding='utf-8', input='content',\n",
      "        lowercase=True, max_df=1.0, max_features=None, min_df=1,\n",
      "        ngram_range=(1, 1), preprocessor=None, stop_words=None,\n",
      "     ...      min_weight_fraction_leaf=0.0, presort=False, random_state=None,\n",
      "            splitter='best'))])\n",
      "DecisionTreeClassifier(class_weight=None, criterion='gini', max_depth=None,\n",
      "            max_features=None, max_leaf_nodes=None,\n",
      "            min_impurity_decrease=0.0, min_impurity_split=None,\n",
      "            min_samples_leaf=1, min_samples_split=2,\n",
      "            min_weight_fraction_leaf=0.0, presort=False, random_state=None,\n",
      "            splitter='best')\n"
     ]
    }
   ],
   "source": [
    "# Let's set up a Pipeline\n",
    "from sklearn.pipeline import Pipeline\n",
    "\n",
    "pipeline_estimators = [\n",
    "    ('count_vector', CountVectorizer()),\n",
    "    ('clf', DecisionTreeClassifier()) ]\n",
    "\n",
    "pipe = Pipeline(pipeline_estimators)\n",
    "\n",
    "# print the pipe to looks at the parameters used in each pipeline_estimators\n",
    "print(pipe)\n",
    "print(pipe.named_steps['clf'])"
   ]
  },
  {
   "cell_type": "code",
   "execution_count": 244,
   "metadata": {},
   "outputs": [
    {
     "data": {
      "text/plain": [
       "0.951530612244898"
      ]
     },
     "execution_count": 244,
     "metadata": {},
     "output_type": "execute_result"
    }
   ],
   "source": [
    "pipe.fit(X_train, y_train)\n",
    "pipe.score(X_test, y_test)"
   ]
  },
  {
   "cell_type": "markdown",
   "metadata": {},
   "source": [
    "#### Since the above accuracy is again based on just one split we will test the moel across many splits using cross_val_score"
   ]
  },
  {
   "cell_type": "code",
   "execution_count": 245,
   "metadata": {},
   "outputs": [
    {
     "name": "stdout",
     "output_type": "stream",
     "text": [
      "Model's mean accuracy using DecisionTreeClassifier is: 93.86% (+/- 0.04)\n"
     ]
    }
   ],
   "source": [
    "scores_pipe = cross_val_score(pipe, X, y, cv = 10)\n",
    "\n",
    "print(\"Model's mean accuracy using %s is: %0.2f%s (+/- %0.2f)\" %(pipe.named_steps['clf'].__class__.__name__, scores_pipe.mean() * 100, \"%\", scores_pipe.std() * 2))"
   ]
  },
  {
   "cell_type": "markdown",
   "metadata": {},
   "source": [
    "#### Let's make another pipeline which includes TF-IDF transformer. \n",
    "\n",
    "The goal of using tf-idf instead of the raw frequencies of occurrence of a token in a given document is to scale down the impact of terms that occur very frequently in a given corpus and that are hence empirically less informative than features that occur in a small fraction of the training corpus."
   ]
  },
  {
   "cell_type": "code",
   "execution_count": 246,
   "metadata": {},
   "outputs": [
    {
     "name": "stdout",
     "output_type": "stream",
     "text": [
      "Pipeline(memory=None,\n",
      "     steps=[('count_vector', CountVectorizer(analyzer='word', binary=False, decode_error='strict',\n",
      "        dtype=<class 'numpy.int64'>, encoding='utf-8', input='content',\n",
      "        lowercase=True, max_df=1.0, max_features=None, min_df=1,\n",
      "        ngram_range=(1, 1), preprocessor=None, stop_words=None,\n",
      "     ...      min_weight_fraction_leaf=0.0, presort=False, random_state=None,\n",
      "            splitter='best'))])\n",
      "TfidfTransformer(norm='l2', smooth_idf=True, sublinear_tf=False, use_idf=True)\n",
      "DecisionTreeClassifier(class_weight=None, criterion='gini', max_depth=None,\n",
      "            max_features=None, max_leaf_nodes=None,\n",
      "            min_impurity_decrease=0.0, min_impurity_split=None,\n",
      "            min_samples_leaf=1, min_samples_split=2,\n",
      "            min_weight_fraction_leaf=0.0, presort=False, random_state=None,\n",
      "            splitter='best')\n"
     ]
    }
   ],
   "source": [
    "# to use tf-idf we will have to import TfidfTransformer from sklearn\n",
    "\n",
    "from sklearn.feature_extraction.text import TfidfTransformer\n",
    "pipeline_estimators_new = [\n",
    "    ('count_vector', CountVectorizer()),\n",
    "    ('tf-idf', TfidfTransformer()),\n",
    "    ('clf', DecisionTreeClassifier()) ]\n",
    "\n",
    "pipe_new = Pipeline(pipeline_estimators_new)\n",
    "\n",
    "# print the pipe to looks at the parameters used in each pipeline_estimators\n",
    "print(pipe_new)\n",
    "print(pipe_new.named_steps['tf-idf'])\n",
    "print(pipe_new.named_steps['clf'])"
   ]
  },
  {
   "cell_type": "code",
   "execution_count": 247,
   "metadata": {},
   "outputs": [
    {
     "name": "stdout",
     "output_type": "stream",
     "text": [
      "Model's mean accuracy using DecisionTreeClassifier is: 93.76% (+/- 0.04)\n"
     ]
    }
   ],
   "source": [
    "scores_pipe_new = cross_val_score(pipe_new, X, y, cv = 10)\n",
    "\n",
    "print(\"Model's mean accuracy using %s is: %0.2f%s (+/- %0.2f)\" %(pipe_new.named_steps['clf'].__class__.__name__, scores_pipe_new.mean() * 100, \"%\", scores_pipe_new.std() * 2))"
   ]
  },
  {
   "cell_type": "markdown",
   "metadata": {},
   "source": [
    "#### Doesn't look like that adding tf-idf will improve the performance. Hence we will use the former pipeline (`pipe`)\n",
    "\n",
    "Let's also perform a grid search on the former pipeline to find the best parameters to be used for CounterVectorizer and DecisionTreeClassifier"
   ]
  },
  {
   "cell_type": "code",
   "execution_count": 248,
   "metadata": {},
   "outputs": [
    {
     "data": {
      "text/plain": [
       "GridSearchCV(cv=None, error_score='raise',\n",
       "       estimator=Pipeline(memory=None,\n",
       "     steps=[('count_vector', CountVectorizer(analyzer='word', binary=False, decode_error='strict',\n",
       "        dtype=<class 'numpy.int64'>, encoding='utf-8', input='content',\n",
       "        lowercase=True, max_df=1.0, max_features=None, min_df=1,\n",
       "        ngram_range=(1, 1), preprocessor=None, stop_words=None,\n",
       "     ...      min_weight_fraction_leaf=0.0, presort=False, random_state=None,\n",
       "            splitter='best'))]),\n",
       "       fit_params=None, iid=True, n_jobs=1,\n",
       "       param_grid={'count_vector__ngram_range': ((1, 1), (1, 2), (1, 3)), 'count_vector__stop_words': ('english', None), 'count_vector__max_features': (None, 1000, 2000, 3000), 'clf__max_depth': (10, 20, 30, 50, 70, None), 'clf__min_samples_leaf': (1, 5, 10, 15)},\n",
       "       pre_dispatch='2*n_jobs', refit=True, return_train_score='warn',\n",
       "       scoring='accuracy', verbose=0)"
      ]
     },
     "execution_count": 248,
     "metadata": {},
     "output_type": "execute_result"
    }
   ],
   "source": [
    "parameter_pipe ={\n",
    "    'count_vector__ngram_range': ((1,1), (1,2), (1,3)), # unigram, bigram, or trigram\n",
    "    'count_vector__stop_words': ('english', None),\n",
    "    'count_vector__max_features': (None, 1000, 2000, 3000),\n",
    "    'clf__max_depth': (10, 20, 30, 50, 70, None), \n",
    "    'clf__min_samples_leaf': (1, 5, 10, 15)\n",
    "}\n",
    "\n",
    "grid_search_pipe = GridSearchCV(estimator = pipe, param_grid = parameter_pipe, scoring = 'accuracy')\n",
    "\n",
    "grid_search_pipe.fit(X, y)"
   ]
  },
  {
   "cell_type": "code",
   "execution_count": 338,
   "metadata": {},
   "outputs": [
    {
     "name": "stdout",
     "output_type": "stream",
     "text": [
      "Model's mean accuracy using Pipeline is: 94.45% (+/- 0.07)\n"
     ]
    }
   ],
   "source": [
    "scores = cross_val_score(grid_search_pipe.best_estimator_, X, y, cv = 30, scoring = \"accuracy\")\n",
    "\n",
    "print(\"Model's mean accuracy using %s is: %0.2f%s (+/- %0.2f)\" %(grid_search_pipe.best_estimator_.__class__.__name__, scores.mean() * 100, \"%\", scores.std() * 2))"
   ]
  },
  {
   "cell_type": "code",
   "execution_count": 250,
   "metadata": {},
   "outputs": [
    {
     "data": {
      "text/plain": [
       "Pipeline(memory=None,\n",
       "     steps=[('count_vector', CountVectorizer(analyzer='word', binary=False, decode_error='strict',\n",
       "        dtype=<class 'numpy.int64'>, encoding='utf-8', input='content',\n",
       "        lowercase=True, max_df=1.0, max_features=1000, min_df=1,\n",
       "        ngram_range=(1, 1), preprocessor=None, stop_words=None,\n",
       "     ...      min_weight_fraction_leaf=0.0, presort=False, random_state=None,\n",
       "            splitter='best'))])"
      ]
     },
     "execution_count": 250,
     "metadata": {},
     "output_type": "execute_result"
    }
   ],
   "source": [
    "grid_search_pipe.best_estimator_"
   ]
  },
  {
   "attachments": {},
   "cell_type": "markdown",
   "metadata": {},
   "source": [
    "#### Conclusion\n",
    "\n",
    "I began by cleaning the data and preprocessing it by using CountVectoriser method to format our data into numbers so our machine learning algorithm can learn from the formatted data well. \n",
    "\n",
    "I have worked through a number of classifiers for e.g. NaivesBayes, RandomForest, DecisionTree, Neural Network, SVC, AdaBoost to identify which classifier works the best given the problem. Clearly, the accuracy score by DecisionTree proved to be greater than other classifier and hence making DecisionTree Classifier as our choice of model. \n",
    "\n",
    "I have used GridSearch for hyperparameterization to understand what best combination of various parameters provided by DecisionTree can used to increase our accuracy.\n",
    "\n",
    "Later, I plotted the validation curve to understand if our model is a good fit / under fitting / over fitting our data. We saw that the training and cross validation scores were appropriately high throughout the different parameter values.\n",
    "\n",
    "Finally, I have improved (or upgraded) our model by introducing `pipeline`. Without `pipeline` for any new dataset we will have to run it through CountVectorizer and then run through our classifier. During this process we might have missed critical steps. Therefore with the usage of `pipeline` I made sure that the dataset is passed through all the sequences (i.e. CountVectorizer, Classifier, GridSearch) while maintaining the same training and testing dataset.\n",
    "\n",
    "By following all the above steps I was able to create a model that was able to identify whether a comment on a youtube video is a spam or not with approximately an excellent score of 95% accuracy."
   ]
  },
  {
   "cell_type": "code",
   "execution_count": null,
   "metadata": {},
   "outputs": [],
   "source": []
  }
 ],
 "metadata": {
  "kernelspec": {
   "display_name": "Python 3",
   "language": "python",
   "name": "python3"
  },
  "language_info": {
   "codemirror_mode": {
    "name": "ipython",
    "version": 3
   },
   "file_extension": ".py",
   "mimetype": "text/x-python",
   "name": "python",
   "nbconvert_exporter": "python",
   "pygments_lexer": "ipython3",
   "version": "3.6.4"
  }
 },
 "nbformat": 4,
 "nbformat_minor": 2
}
